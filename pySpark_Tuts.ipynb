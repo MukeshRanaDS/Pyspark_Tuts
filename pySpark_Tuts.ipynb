{
 "cells": [
  {
   "cell_type": "markdown",
   "id": "ab7d9049",
   "metadata": {
    "jp-MarkdownHeadingCollapsed": true
   },
   "source": [
    "## Spark Tutorial Tutorials\n",
    "https://www.youtube.com/watch?v=WyZmM6K7ubc&list=PLZoTAELRMXVNjiiawhzZ0afHcPvC8jpcg&index=1&ab_channel=KrishNaik\n",
    "\n",
    "https://github.com/kevinschaich/pyspark-cheatsheet"
   ]
  },
  {
   "cell_type": "markdown",
   "id": "f6a4ac21",
   "metadata": {},
   "source": [
    "# Day 1"
   ]
  },
  {
   "cell_type": "code",
   "execution_count": 1,
   "id": "e80cf45e",
   "metadata": {},
   "outputs": [],
   "source": [
    "import pyspark\n",
    "import pandas as pd\n",
    "from pyspark.sql.types import StructType, StructField, StringType, IntegerType\n"
   ]
  },
  {
   "cell_type": "markdown",
   "id": "51325284",
   "metadata": {},
   "source": [
    "#### Data Loding "
   ]
  },
  {
   "cell_type": "code",
   "execution_count": 2,
   "id": "7ebab9c5",
   "metadata": {
    "scrolled": true
   },
   "outputs": [],
   "source": [
    "# Starting Spark Session\n",
    "from pyspark.sql import SparkSession\n",
    "spark = SparkSession.builder.appName('Practice').getOrCreate()"
   ]
  },
  {
   "cell_type": "code",
   "execution_count": 3,
   "id": "373a665d-0385-43f8-af00-ffe6c5157e09",
   "metadata": {},
   "outputs": [
    {
     "data": {
      "text/html": [
       "\n",
       "            <div>\n",
       "                <p><b>SparkSession - in-memory</b></p>\n",
       "                \n",
       "        <div>\n",
       "            <p><b>SparkContext</b></p>\n",
       "\n",
       "            <p><a href=\"http://Muqesh-QHUG4S1:4040\">Spark UI</a></p>\n",
       "\n",
       "            <dl>\n",
       "              <dt>Version</dt>\n",
       "                <dd><code>v3.5.1</code></dd>\n",
       "              <dt>Master</dt>\n",
       "                <dd><code>local[*]</code></dd>\n",
       "              <dt>AppName</dt>\n",
       "                <dd><code>Practice</code></dd>\n",
       "            </dl>\n",
       "        </div>\n",
       "        \n",
       "            </div>\n",
       "        "
      ],
      "text/plain": [
       "<pyspark.sql.session.SparkSession at 0x1ab53f52c70>"
      ]
     },
     "execution_count": 3,
     "metadata": {},
     "output_type": "execute_result"
    }
   ],
   "source": [
    "spark"
   ]
  },
  {
   "cell_type": "markdown",
   "id": "6b1f4e0c-5207-4879-9eac-7da5d50be5f5",
   "metadata": {},
   "source": [
    "#### Read Data using Pandas"
   ]
  },
  {
   "cell_type": "code",
   "execution_count": 4,
   "id": "bb8deb60-02b3-47fe-a28a-aded6a75a3b1",
   "metadata": {},
   "outputs": [
    {
     "data": {
      "text/html": [
       "<div>\n",
       "<style scoped>\n",
       "    .dataframe tbody tr th:only-of-type {\n",
       "        vertical-align: middle;\n",
       "    }\n",
       "\n",
       "    .dataframe tbody tr th {\n",
       "        vertical-align: top;\n",
       "    }\n",
       "\n",
       "    .dataframe thead th {\n",
       "        text-align: right;\n",
       "    }\n",
       "</style>\n",
       "<table border=\"1\" class=\"dataframe\">\n",
       "  <thead>\n",
       "    <tr style=\"text-align: right;\">\n",
       "      <th></th>\n",
       "      <th>Line No.</th>\n",
       "      <th>SHUTTLE NO.</th>\n",
       "      <th>Jan</th>\n",
       "      <th>Feb</th>\n",
       "      <th>Mar</th>\n",
       "    </tr>\n",
       "  </thead>\n",
       "  <tbody>\n",
       "    <tr>\n",
       "      <th>0</th>\n",
       "      <td>SDL3</td>\n",
       "      <td>3</td>\n",
       "      <td>1</td>\n",
       "      <td>0</td>\n",
       "      <td>0</td>\n",
       "    </tr>\n",
       "    <tr>\n",
       "      <th>1</th>\n",
       "      <td>SDL2</td>\n",
       "      <td>26</td>\n",
       "      <td>0</td>\n",
       "      <td>0</td>\n",
       "      <td>0</td>\n",
       "    </tr>\n",
       "    <tr>\n",
       "      <th>2</th>\n",
       "      <td>SDL2</td>\n",
       "      <td>27</td>\n",
       "      <td>0</td>\n",
       "      <td>0</td>\n",
       "      <td>1</td>\n",
       "    </tr>\n",
       "    <tr>\n",
       "      <th>3</th>\n",
       "      <td>SDL3</td>\n",
       "      <td>28</td>\n",
       "      <td>0</td>\n",
       "      <td>0</td>\n",
       "      <td>1</td>\n",
       "    </tr>\n",
       "    <tr>\n",
       "      <th>4</th>\n",
       "      <td>SDL1</td>\n",
       "      <td>29</td>\n",
       "      <td>1</td>\n",
       "      <td>0</td>\n",
       "      <td>0</td>\n",
       "    </tr>\n",
       "  </tbody>\n",
       "</table>\n",
       "</div>"
      ],
      "text/plain": [
       "  Line No.  SHUTTLE NO.  Jan  Feb  Mar\n",
       "0     SDL3            3    1    0    0\n",
       "1     SDL2           26    0    0    0\n",
       "2     SDL2           27    0    0    1\n",
       "3     SDL3           28    0    0    1\n",
       "4     SDL1           29    1    0    0"
      ]
     },
     "execution_count": 4,
     "metadata": {},
     "output_type": "execute_result"
    }
   ],
   "source": [
    "pdf = pd.read_csv(\"shuttle_service_frq.csv\")\n",
    "pdf.head()"
   ]
  },
  {
   "cell_type": "markdown",
   "id": "a74860ae-7646-4e9e-b8e8-8c122f765e6d",
   "metadata": {},
   "source": [
    "#### Read Data using Spark"
   ]
  },
  {
   "cell_type": "code",
   "execution_count": 5,
   "id": "55621af5-fc52-4b4b-9ae0-ba6ab9e500c7",
   "metadata": {},
   "outputs": [],
   "source": [
    "sdf = spark.read.csv(\"shuttle_service_frq.csv\")"
   ]
  },
  {
   "cell_type": "code",
   "execution_count": 6,
   "id": "cf1d7367-6988-4aff-bb72-2e7528e12a4b",
   "metadata": {},
   "outputs": [
    {
     "data": {
      "text/plain": [
       "DataFrame[_c0: string, _c1: string, _c2: string, _c3: string, _c4: string]"
      ]
     },
     "execution_count": 6,
     "metadata": {},
     "output_type": "execute_result"
    }
   ],
   "source": [
    "sdf"
   ]
  },
  {
   "cell_type": "code",
   "execution_count": 7,
   "id": "1ef84eb9-9a44-4443-b784-2557bce5180d",
   "metadata": {},
   "outputs": [
    {
     "data": {
      "text/plain": [
       "Row(_c0='Line No.', _c1='SHUTTLE NO.', _c2='Jan', _c3='Feb', _c4='Mar')"
      ]
     },
     "execution_count": 7,
     "metadata": {},
     "output_type": "execute_result"
    }
   ],
   "source": [
    "sdf.head()"
   ]
  },
  {
   "cell_type": "code",
   "execution_count": 8,
   "id": "2dc2a978-21d9-4c5b-8660-63c76eaa282f",
   "metadata": {},
   "outputs": [
    {
     "name": "stdout",
     "output_type": "stream",
     "text": [
      "+--------+-----------+---+---+---+\n",
      "|     _c0|        _c1|_c2|_c3|_c4|\n",
      "+--------+-----------+---+---+---+\n",
      "|Line No.|SHUTTLE NO.|Jan|Feb|Mar|\n",
      "|    SDL3|          3|  1|  0|  0|\n",
      "|    SDL2|         26|  0|  0|  0|\n",
      "|    SDL2|         27|  0|  0|  1|\n",
      "|    SDL3|         28|  0|  0|  1|\n",
      "|    SDL1|         29|  1|  0|  0|\n",
      "|    SDL3|         30|  1|  0|  0|\n",
      "|    SDL2|         31|  0|  0|  0|\n",
      "|    SDL2|         32|  3|  0|  1|\n",
      "|    SDL3|         33|  0|  1|  0|\n",
      "|    SDL3|         34|  0|  0|  0|\n",
      "|    SDL4|         35|  1|  0|  1|\n",
      "|    SDL3|         36|  0|  1|  0|\n",
      "|    SDL1|         37|  0|  0|  0|\n",
      "|    SDL1|         38|  0|  0|  0|\n",
      "|    SDL3|         39|  0|  0|  0|\n",
      "|    SDL1|         40|  0|  0|  0|\n",
      "|    SDL3|         41|  0|  0|  0|\n",
      "|    SDL3|         42|  0|  0|  1|\n",
      "|    SDL4|         43|  0|  0|  1|\n",
      "+--------+-----------+---+---+---+\n",
      "only showing top 20 rows\n",
      "\n"
     ]
    }
   ],
   "source": [
    "sdf.show()"
   ]
  },
  {
   "cell_type": "code",
   "execution_count": 9,
   "id": "f5845db5-1667-4f64-88d9-ad031035269b",
   "metadata": {},
   "outputs": [
    {
     "data": {
      "text/plain": [
       "DataFrame[Line No.: string, SHUTTLE NO.: string, Jan: string, Feb: string, Mar: string]"
      ]
     },
     "execution_count": 9,
     "metadata": {},
     "output_type": "execute_result"
    }
   ],
   "source": [
    "# sdf = spark.read.csv(\"shuttle_service_frq.csv\")\n",
    "sdf = spark.read.option('header', 'true').csv(\"shuttle_service_frq.csv\")\n",
    "sdf"
   ]
  },
  {
   "cell_type": "code",
   "execution_count": 10,
   "id": "5e5d53a9-501c-4cb2-a973-95eea15fba6c",
   "metadata": {},
   "outputs": [
    {
     "name": "stdout",
     "output_type": "stream",
     "text": [
      "+--------+-----------+---+---+---+\n",
      "|Line No.|SHUTTLE NO.|Jan|Feb|Mar|\n",
      "+--------+-----------+---+---+---+\n",
      "|    SDL3|          3|  1|  0|  0|\n",
      "|    SDL2|         26|  0|  0|  0|\n",
      "|    SDL2|         27|  0|  0|  1|\n",
      "|    SDL3|         28|  0|  0|  1|\n",
      "|    SDL1|         29|  1|  0|  0|\n",
      "|    SDL3|         30|  1|  0|  0|\n",
      "|    SDL2|         31|  0|  0|  0|\n",
      "|    SDL2|         32|  3|  0|  1|\n",
      "|    SDL3|         33|  0|  1|  0|\n",
      "|    SDL3|         34|  0|  0|  0|\n",
      "|    SDL4|         35|  1|  0|  1|\n",
      "|    SDL3|         36|  0|  1|  0|\n",
      "|    SDL1|         37|  0|  0|  0|\n",
      "|    SDL1|         38|  0|  0|  0|\n",
      "|    SDL3|         39|  0|  0|  0|\n",
      "|    SDL1|         40|  0|  0|  0|\n",
      "|    SDL3|         41|  0|  0|  0|\n",
      "|    SDL3|         42|  0|  0|  1|\n",
      "|    SDL4|         43|  0|  0|  1|\n",
      "|    SDL3|         44|  0|  0|  0|\n",
      "+--------+-----------+---+---+---+\n",
      "only showing top 20 rows\n",
      "\n"
     ]
    }
   ],
   "source": [
    "sdf.show()"
   ]
  },
  {
   "cell_type": "code",
   "execution_count": 11,
   "id": "1b01be7d-922f-45d5-a091-2fa4bcf98115",
   "metadata": {},
   "outputs": [
    {
     "data": {
      "text/plain": [
       "[Row(Line No.='SDL3', SHUTTLE NO.='3', Jan='1', Feb='0', Mar='0'),\n",
       " Row(Line No.='SDL2', SHUTTLE NO.='26', Jan='0', Feb='0', Mar='0'),\n",
       " Row(Line No.='SDL2', SHUTTLE NO.='27', Jan='0', Feb='0', Mar='1')]"
      ]
     },
     "execution_count": 11,
     "metadata": {},
     "output_type": "execute_result"
    }
   ],
   "source": [
    "sdf.head(3)"
   ]
  },
  {
   "cell_type": "code",
   "execution_count": 12,
   "id": "44613ed7-2509-49c2-98c4-7b82fe21832c",
   "metadata": {},
   "outputs": [
    {
     "data": {
      "text/plain": [
       "pyspark.sql.dataframe.DataFrame"
      ]
     },
     "execution_count": 12,
     "metadata": {},
     "output_type": "execute_result"
    }
   ],
   "source": [
    "# Type of sdf\n",
    "type(sdf)"
   ]
  },
  {
   "cell_type": "code",
   "execution_count": 13,
   "id": "fc10336a-7a50-482e-89c7-2bbe7917acbf",
   "metadata": {},
   "outputs": [
    {
     "name": "stdout",
     "output_type": "stream",
     "text": [
      "root\n",
      " |-- Line No.: string (nullable = true)\n",
      " |-- SHUTTLE NO.: string (nullable = true)\n",
      " |-- Jan: string (nullable = true)\n",
      " |-- Feb: string (nullable = true)\n",
      " |-- Mar: string (nullable = true)\n",
      "\n"
     ]
    }
   ],
   "source": [
    "# Print Schema \n",
    "sdf.printSchema()"
   ]
  },
  {
   "cell_type": "markdown",
   "id": "7548acb4-4d4b-4d14-9479-fdae4bf8d2de",
   "metadata": {},
   "source": [
    "# Day 2"
   ]
  },
  {
   "cell_type": "code",
   "execution_count": 14,
   "id": "7f027b22-50ae-4c6d-a760-7b5bcf5565ba",
   "metadata": {},
   "outputs": [
    {
     "data": {
      "text/html": [
       "\n",
       "            <div>\n",
       "                <p><b>SparkSession - in-memory</b></p>\n",
       "                \n",
       "        <div>\n",
       "            <p><b>SparkContext</b></p>\n",
       "\n",
       "            <p><a href=\"http://Muqesh-QHUG4S1:4040\">Spark UI</a></p>\n",
       "\n",
       "            <dl>\n",
       "              <dt>Version</dt>\n",
       "                <dd><code>v3.5.1</code></dd>\n",
       "              <dt>Master</dt>\n",
       "                <dd><code>local[*]</code></dd>\n",
       "              <dt>AppName</dt>\n",
       "                <dd><code>Practice</code></dd>\n",
       "            </dl>\n",
       "        </div>\n",
       "        \n",
       "            </div>\n",
       "        "
      ],
      "text/plain": [
       "<pyspark.sql.session.SparkSession at 0x1ab53f52c70>"
      ]
     },
     "execution_count": 14,
     "metadata": {},
     "output_type": "execute_result"
    }
   ],
   "source": [
    "# Start spark Session\n",
    "from pyspark.sql import SparkSession\n",
    "\n",
    "spark = SparkSession.builder.appName(\"Dataframe\").getOrCreate()\n",
    "spark"
   ]
  },
  {
   "cell_type": "code",
   "execution_count": 15,
   "id": "9a362616-835c-4c1f-a9a9-453b09eb91a4",
   "metadata": {},
   "outputs": [
    {
     "data": {
      "text/plain": [
       "DataFrame[Line No.: string, SHUTTLE NO.: string, Jan: string, Feb: string, Mar: string]"
      ]
     },
     "execution_count": 15,
     "metadata": {},
     "output_type": "execute_result"
    }
   ],
   "source": [
    "# Read Dataset\n",
    "sdf = spark.read.option('header', 'true').csv('shuttle_service_frq.csv') # take all columns as string\n",
    "sdf"
   ]
  },
  {
   "cell_type": "code",
   "execution_count": 16,
   "id": "961c1187-6937-470f-a090-e9f6e98b811a",
   "metadata": {},
   "outputs": [
    {
     "name": "stdout",
     "output_type": "stream",
     "text": [
      "+--------+-----------+---+---+---+\n",
      "|Line No.|SHUTTLE NO.|Jan|Feb|Mar|\n",
      "+--------+-----------+---+---+---+\n",
      "|    SDL3|          3|  1|  0|  0|\n",
      "|    SDL2|         26|  0|  0|  0|\n",
      "|    SDL2|         27|  0|  0|  1|\n",
      "|    SDL3|         28|  0|  0|  1|\n",
      "|    SDL1|         29|  1|  0|  0|\n",
      "+--------+-----------+---+---+---+\n",
      "only showing top 5 rows\n",
      "\n"
     ]
    }
   ],
   "source": [
    "sdf.show(5)"
   ]
  },
  {
   "cell_type": "code",
   "execution_count": 17,
   "id": "bace4a6d-9cf3-4b90-bb05-ff8831f2283e",
   "metadata": {},
   "outputs": [
    {
     "name": "stdout",
     "output_type": "stream",
     "text": [
      "root\n",
      " |-- Line No.: string (nullable = true)\n",
      " |-- SHUTTLE NO.: string (nullable = true)\n",
      " |-- Jan: string (nullable = true)\n",
      " |-- Feb: string (nullable = true)\n",
      " |-- Mar: string (nullable = true)\n",
      "\n"
     ]
    }
   ],
   "source": [
    "sdf.printSchema()"
   ]
  },
  {
   "cell_type": "code",
   "execution_count": 18,
   "id": "0621486a-2831-4681-b669-2a574130bcea",
   "metadata": {},
   "outputs": [
    {
     "data": {
      "text/plain": [
       "DataFrame[Line No.: string, SHUTTLE NO.: int, Jan: int, Feb: int, Mar: int]"
      ]
     },
     "execution_count": 18,
     "metadata": {},
     "output_type": "execute_result"
    }
   ],
   "source": [
    "# Read Dataset\n",
    "sdf = spark.read.option('header', 'true').csv('shuttle_service_frq.csv', inferSchema=True) \n",
    "sdf"
   ]
  },
  {
   "cell_type": "code",
   "execution_count": 19,
   "id": "88703d73-6869-4dac-a585-5fc7d26084c8",
   "metadata": {},
   "outputs": [
    {
     "name": "stdout",
     "output_type": "stream",
     "text": [
      "root\n",
      " |-- Line No.: string (nullable = true)\n",
      " |-- SHUTTLE NO.: integer (nullable = true)\n",
      " |-- Jan: integer (nullable = true)\n",
      " |-- Feb: integer (nullable = true)\n",
      " |-- Mar: integer (nullable = true)\n",
      "\n"
     ]
    }
   ],
   "source": [
    "sdf.printSchema()"
   ]
  },
  {
   "cell_type": "markdown",
   "id": "1e8e67db-5adc-4bb0-92f1-8bbc721c1051",
   "metadata": {},
   "source": [
    "### OR"
   ]
  },
  {
   "cell_type": "code",
   "execution_count": 20,
   "id": "a095c426-f62e-4330-a773-7b08348524dc",
   "metadata": {},
   "outputs": [
    {
     "data": {
      "text/plain": [
       "DataFrame[Line No.: string, SHUTTLE NO.: int, Jan: int, Feb: int, Mar: int]"
      ]
     },
     "execution_count": 20,
     "metadata": {},
     "output_type": "execute_result"
    }
   ],
   "source": [
    "sdf = spark.read.csv('shuttle_service_frq.csv', header=True, inferSchema=True)\n",
    "sdf"
   ]
  },
  {
   "cell_type": "code",
   "execution_count": 21,
   "id": "ee193f07-1410-4a59-8ade-cd6ef2541cac",
   "metadata": {},
   "outputs": [
    {
     "name": "stdout",
     "output_type": "stream",
     "text": [
      "+--------+-----------+---+---+---+\n",
      "|Line No.|SHUTTLE NO.|Jan|Feb|Mar|\n",
      "+--------+-----------+---+---+---+\n",
      "|    SDL3|          3|  1|  0|  0|\n",
      "|    SDL2|         26|  0|  0|  0|\n",
      "|    SDL2|         27|  0|  0|  1|\n",
      "+--------+-----------+---+---+---+\n",
      "only showing top 3 rows\n",
      "\n"
     ]
    }
   ],
   "source": [
    "sdf.show(3)"
   ]
  },
  {
   "cell_type": "code",
   "execution_count": 22,
   "id": "32fd540a-de11-4535-938d-fd30dd4ee8c9",
   "metadata": {},
   "outputs": [
    {
     "name": "stdout",
     "output_type": "stream",
     "text": [
      "root\n",
      " |-- Line No.: string (nullable = true)\n",
      " |-- SHUTTLE NO.: integer (nullable = true)\n",
      " |-- Jan: integer (nullable = true)\n",
      " |-- Feb: integer (nullable = true)\n",
      " |-- Mar: integer (nullable = true)\n",
      "\n"
     ]
    }
   ],
   "source": [
    "sdf.printSchema()"
   ]
  },
  {
   "cell_type": "code",
   "execution_count": 23,
   "id": "3082173c-1682-483f-b603-9c71fa6d94d4",
   "metadata": {
    "scrolled": true
   },
   "outputs": [
    {
     "name": "stdout",
     "output_type": "stream",
     "text": [
      "sdf : \n",
      "DataFrame[Line No.: string]\n",
      "\n",
      "Type : \n",
      "<class 'pyspark.sql.dataframe.DataFrame'>\n",
      "\n",
      "+--------+\n",
      "|Line No.|\n",
      "+--------+\n",
      "|    SDL3|\n",
      "|    SDL2|\n",
      "|    SDL2|\n",
      "+--------+\n",
      "only showing top 3 rows\n",
      "\n"
     ]
    }
   ],
   "source": [
    "# Print Line No column\n",
    "# column names containing spaces and special characters need to be properly escaped\n",
    "# or accessed using backticks\n",
    "print(\"sdf : \")\n",
    "print(sdf.select('`Line No.`'))\n",
    "print()\n",
    "print(\"Type : \")\n",
    "print(type(sdf.select('`Line No.`')))\n",
    "print()\n",
    "sdf.select('`Line No.`').show(3)"
   ]
  },
  {
   "cell_type": "code",
   "execution_count": 24,
   "id": "cf105459-c835-436a-8469-3949c6119fa7",
   "metadata": {},
   "outputs": [
    {
     "name": "stdout",
     "output_type": "stream",
     "text": [
      "sdf : \n",
      "DataFrame[Jan: int]\n",
      "\n",
      "Type : \n",
      "<class 'pyspark.sql.dataframe.DataFrame'>\n",
      "\n",
      "+---+\n",
      "|Jan|\n",
      "+---+\n",
      "|  1|\n",
      "|  0|\n",
      "|  0|\n",
      "+---+\n",
      "only showing top 3 rows\n",
      "\n"
     ]
    }
   ],
   "source": [
    "# Print \"Jan\" column\n",
    "# or accessed using backticks\n",
    "print(\"sdf : \")\n",
    "print(sdf.select('Jan'))\n",
    "print()\n",
    "print(\"Type : \")\n",
    "print(type(sdf.select('Jan')))\n",
    "print()\n",
    "sdf.select('Jan').show(3)"
   ]
  },
  {
   "cell_type": "code",
   "execution_count": 25,
   "id": "d05a08ab-9068-4c63-aad9-6c4caa9f2ec5",
   "metadata": {},
   "outputs": [
    {
     "name": "stdout",
     "output_type": "stream",
     "text": [
      "sdf : \n",
      "DataFrame[Line No.: string, Jan: int]\n",
      "\n",
      "Type : \n",
      "<class 'pyspark.sql.dataframe.DataFrame'>\n",
      "\n",
      "+--------+---+\n",
      "|Line No.|Jan|\n",
      "+--------+---+\n",
      "|    SDL3|  1|\n",
      "|    SDL2|  0|\n",
      "|    SDL2|  0|\n",
      "+--------+---+\n",
      "only showing top 3 rows\n",
      "\n"
     ]
    }
   ],
   "source": [
    "# Select multiple columns \n",
    "# or accessed using backticks\n",
    "print(\"sdf : \")\n",
    "print(sdf.select(['`Line No.`', 'Jan']))\n",
    "print()\n",
    "print(\"Type : \")\n",
    "print(type(sdf.select(['`Line No.`', 'Jan'])))\n",
    "print()\n",
    "sdf.select(['`Line No.`', 'Jan']).show(3)"
   ]
  },
  {
   "cell_type": "markdown",
   "id": "827c084e-0423-44b1-9986-f3fef279cd99",
   "metadata": {},
   "source": [
    "##### Column Rename"
   ]
  },
  {
   "cell_type": "code",
   "execution_count": 26,
   "id": "9a185a98-3564-423b-b97f-b8eb4bab1ec1",
   "metadata": {},
   "outputs": [
    {
     "data": {
      "text/plain": [
       "['Line No.', 'SHUTTLE NO.', 'Jan', 'Feb', 'Mar']"
      ]
     },
     "execution_count": 26,
     "metadata": {},
     "output_type": "execute_result"
    }
   ],
   "source": [
    "sdf.columns "
   ]
  },
  {
   "cell_type": "code",
   "execution_count": 27,
   "id": "6a7cb408-f3c4-4966-9879-75d26027aceb",
   "metadata": {},
   "outputs": [
    {
     "name": "stdout",
     "output_type": "stream",
     "text": [
      "Line_No\n",
      "SHUTTLE_NO\n",
      "Jan\n",
      "Feb\n",
      "Mar\n"
     ]
    },
    {
     "data": {
      "text/plain": [
       "DataFrame[Line_No: string, SHUTTLE_NO: int, Jan: int, Feb: int, Mar: int]"
      ]
     },
     "execution_count": 27,
     "metadata": {},
     "output_type": "execute_result"
    }
   ],
   "source": [
    "# Rename columns to remove spaces and special characters\n",
    "for column in sdf.columns:\n",
    "    new_column_name = column.replace(' ', '_').replace('.', '')\n",
    "    print(new_column_name)\n",
    "    sdf = sdf.withColumnRenamed(column, new_column_name)\n",
    "    \n",
    "sdf"
   ]
  },
  {
   "cell_type": "code",
   "execution_count": 28,
   "id": "eb4b7fba-aee0-40d9-b169-d7d74b5056c6",
   "metadata": {},
   "outputs": [
    {
     "name": "stdout",
     "output_type": "stream",
     "text": [
      "DataFrame[summary: string, Line_No: string, SHUTTLE_NO: string, Jan: string, Feb: string, Mar: string]\n",
      "\n",
      "+-------+-------+------------------+------------------+-------------------+-------------------+\n",
      "|summary|Line_No|        SHUTTLE_NO|               Jan|                Feb|                Mar|\n",
      "+-------+-------+------------------+------------------+-------------------+-------------------+\n",
      "|  count|    132|               134|               134|                134|                134|\n",
      "|   mean|   NULL|121.73134328358209|0.4253731343283582|0.14925373134328357|0.41044776119402987|\n",
      "| stddev|   NULL|136.46003376345536|0.8076408201115163| 0.3781128980976144| 0.6740371753782891|\n",
      "+-------+-------+------------------+------------------+-------------------+-------------------+\n",
      "only showing top 3 rows\n",
      "\n"
     ]
    }
   ],
   "source": [
    "# Describe\n",
    "print(sdf.describe())\n",
    "print()\n",
    "sdf.describe().show(3)"
   ]
  },
  {
   "cell_type": "markdown",
   "id": "1b876af7-c40e-418e-9732-c2b880b022f2",
   "metadata": {},
   "source": [
    "#### Adding Column"
   ]
  },
  {
   "cell_type": "code",
   "execution_count": 29,
   "id": "e0063338-6638-4b3b-8a0a-1a24bd0069cc",
   "metadata": {},
   "outputs": [
    {
     "name": "stdout",
     "output_type": "stream",
     "text": [
      "+-------+----------+---+---+---+-----+\n",
      "|Line_No|SHUTTLE_NO|Jan|Feb|Mar|April|\n",
      "+-------+----------+---+---+---+-----+\n",
      "|   SDL3|         3|  1|  0|  0|    2|\n",
      "|   SDL2|        26|  0|  0|  0|    2|\n",
      "|   SDL2|        27|  0|  0|  1|    3|\n",
      "|   SDL3|        28|  0|  0|  1|    3|\n",
      "|   SDL1|        29|  1|  0|  0|    2|\n",
      "+-------+----------+---+---+---+-----+\n",
      "only showing top 5 rows\n",
      "\n"
     ]
    }
   ],
   "source": [
    "add = sdf.withColumn('April', sdf['Mar']+2)\n",
    "add.show(5)"
   ]
  },
  {
   "cell_type": "code",
   "execution_count": 30,
   "id": "66d4a476-09dc-45a3-9cd9-df1457bc2fa0",
   "metadata": {},
   "outputs": [
    {
     "name": "stdout",
     "output_type": "stream",
     "text": [
      "+-------+----------+---+---+---+\n",
      "|Line_No|SHUTTLE_NO|Jan|Feb|Mar|\n",
      "+-------+----------+---+---+---+\n",
      "|   SDL3|         3|  1|  0|  0|\n",
      "|   SDL2|        26|  0|  0|  0|\n",
      "|   SDL2|        27|  0|  0|  1|\n",
      "|   SDL3|        28|  0|  0|  1|\n",
      "|   SDL1|        29|  1|  0|  0|\n",
      "+-------+----------+---+---+---+\n",
      "only showing top 5 rows\n",
      "\n"
     ]
    }
   ],
   "source": [
    "drop = add.drop('April')\n",
    "drop.show(5)"
   ]
  },
  {
   "cell_type": "markdown",
   "id": "422dad5a-434b-4be2-aa8b-439491f6261c",
   "metadata": {},
   "source": [
    "# Day 3"
   ]
  },
  {
   "cell_type": "code",
   "execution_count": 31,
   "id": "742a93d1-338b-49fe-b1de-27a1eef7afd7",
   "metadata": {},
   "outputs": [
    {
     "data": {
      "text/html": [
       "\n",
       "            <div>\n",
       "                <p><b>SparkSession - in-memory</b></p>\n",
       "                \n",
       "        <div>\n",
       "            <p><b>SparkContext</b></p>\n",
       "\n",
       "            <p><a href=\"http://Muqesh-QHUG4S1:4040\">Spark UI</a></p>\n",
       "\n",
       "            <dl>\n",
       "              <dt>Version</dt>\n",
       "                <dd><code>v3.5.1</code></dd>\n",
       "              <dt>Master</dt>\n",
       "                <dd><code>local[*]</code></dd>\n",
       "              <dt>AppName</dt>\n",
       "                <dd><code>Practice</code></dd>\n",
       "            </dl>\n",
       "        </div>\n",
       "        \n",
       "            </div>\n",
       "        "
      ],
      "text/plain": [
       "<pyspark.sql.session.SparkSession at 0x1ab53f52c70>"
      ]
     },
     "execution_count": 31,
     "metadata": {},
     "output_type": "execute_result"
    }
   ],
   "source": [
    "from pyspark.sql import SparkSession\n",
    "\n",
    "spark = SparkSession.builder.appName('Practice').getOrCreate()\n",
    "spark"
   ]
  },
  {
   "cell_type": "code",
   "execution_count": 32,
   "id": "382a9f69-646c-4e94-bc26-a286eb74f47b",
   "metadata": {},
   "outputs": [
    {
     "data": {
      "text/plain": [
       "DataFrame[Line No.: string, SHUTTLE NO.: int, Jan: int, Feb: int, Mar: int]"
      ]
     },
     "execution_count": 32,
     "metadata": {},
     "output_type": "execute_result"
    }
   ],
   "source": [
    "sdf = spark.read.csv('shuttle_service_frq.csv', header=True, inferSchema=True)\n",
    "sdf"
   ]
  },
  {
   "cell_type": "code",
   "execution_count": 33,
   "id": "9a5f8087-b1a8-410a-b790-398d67916851",
   "metadata": {},
   "outputs": [
    {
     "name": "stdout",
     "output_type": "stream",
     "text": [
      "+--------+-----------+---+---+---+\n",
      "|Line No.|SHUTTLE NO.|Jan|Feb|Mar|\n",
      "+--------+-----------+---+---+---+\n",
      "|    SDL3|          3|  1|  0|  0|\n",
      "|    SDL2|         26|  0|  0|  0|\n",
      "|    SDL2|         27|  0|  0|  1|\n",
      "+--------+-----------+---+---+---+\n",
      "only showing top 3 rows\n",
      "\n"
     ]
    }
   ],
   "source": [
    "sdf.show(3)"
   ]
  },
  {
   "cell_type": "code",
   "execution_count": 34,
   "id": "183b4152-004a-4ed1-b6a4-aae63d8611c8",
   "metadata": {},
   "outputs": [
    {
     "name": "stdout",
     "output_type": "stream",
     "text": [
      "Line_No\n",
      "SHUTTLE_NO\n",
      "Jan\n",
      "Feb\n",
      "Mar\n"
     ]
    }
   ],
   "source": [
    "# Rename columns to remove spaces and special characters\n",
    "for column in sdf.columns:\n",
    "    new_column_name = column.replace(' ', '_').replace('.', '')\n",
    "    print(new_column_name)\n",
    "    sdf = sdf.withColumnRenamed(column, new_column_name)\n"
   ]
  },
  {
   "cell_type": "code",
   "execution_count": 35,
   "id": "73e02fd0-fcc7-4eda-b472-abe1e14973c7",
   "metadata": {},
   "outputs": [
    {
     "name": "stdout",
     "output_type": "stream",
     "text": [
      "Line_No\n",
      "SHUTTLE_NO\n",
      "Jan\n",
      "Feb\n",
      "Mar\n",
      "\n"
     ]
    },
    {
     "data": {
      "text/plain": [
       "DataFrame[Line_No: string, SHUTTLE_NO: int, Jan: int, Feb: int, Mar: int]"
      ]
     },
     "execution_count": 35,
     "metadata": {},
     "output_type": "execute_result"
    }
   ],
   "source": [
    "for col in sdf.columns:\n",
    "    renamed_col = col.replace(' ', '_').replace('.', '')\n",
    "    print(renamed_col)\n",
    "    sdf = sdf.withColumnRenamed(col, renamed_col)\n",
    "\n",
    "print()\n",
    "sdf"
   ]
  },
  {
   "cell_type": "markdown",
   "id": "38a5a281-cdc6-4316-ba0c-a37bfa4f054f",
   "metadata": {},
   "source": [
    "#### Null Values Droping"
   ]
  },
  {
   "cell_type": "code",
   "execution_count": 36,
   "id": "0b65a79b-3e80-4759-b2d3-05979c0e5563",
   "metadata": {
    "scrolled": true
   },
   "outputs": [
    {
     "name": "stdout",
     "output_type": "stream",
     "text": [
      "+-------+----------+---+---+---+\n",
      "|Line_No|SHUTTLE_NO|Jan|Feb|Mar|\n",
      "+-------+----------+---+---+---+\n",
      "|   SDL3|         3|  1|  0|  0|\n",
      "|   SDL2|        26|  0|  0|  0|\n",
      "|   SDL2|        27|  0|  0|  1|\n",
      "|   SDL3|        28|  0|  0|  1|\n",
      "|   SDL1|        29|  1|  0|  0|\n",
      "|   SDL3|        30|  1|  0|  0|\n",
      "|   SDL2|        31|  0|  0|  0|\n",
      "|   SDL2|        32|  3|  0|  1|\n",
      "|   SDL3|        33|  0|  1|  0|\n",
      "|   SDL3|        34|  0|  0|  0|\n",
      "|   SDL4|        35|  1|  0|  1|\n",
      "|   SDL3|        36|  0|  1|  0|\n",
      "|   SDL1|        37|  0|  0|  0|\n",
      "|   SDL1|        38|  0|  0|  0|\n",
      "|   SDL3|        39|  0|  0|  0|\n",
      "|   SDL1|        40|  0|  0|  0|\n",
      "|   SDL3|        41|  0|  0|  0|\n",
      "|   SDL3|        42|  0|  0|  1|\n",
      "|   SDL4|        43|  0|  0|  1|\n",
      "|   SDL3|        44|  0|  0|  0|\n",
      "+-------+----------+---+---+---+\n",
      "only showing top 20 rows\n",
      "\n",
      "+-------+----------+---+---+---+\n",
      "|Line_No|SHUTTLE_NO|Jan|Feb|Mar|\n",
      "+-------+----------+---+---+---+\n",
      "|   SDL3|         3|  1|  0|  0|\n",
      "|   SDL2|        26|  0|  0|  0|\n",
      "|   SDL2|        27|  0|  0|  1|\n",
      "|   SDL3|        28|  0|  0|  1|\n",
      "|   SDL1|        29|  1|  0|  0|\n",
      "|   SDL3|        30|  1|  0|  0|\n",
      "|   SDL2|        31|  0|  0|  0|\n",
      "|   SDL2|        32|  3|  0|  1|\n",
      "|   SDL3|        33|  0|  1|  0|\n",
      "|   SDL3|        34|  0|  0|  0|\n",
      "|   SDL4|        35|  1|  0|  1|\n",
      "|   SDL3|        36|  0|  1|  0|\n",
      "|   SDL1|        37|  0|  0|  0|\n",
      "|   SDL1|        38|  0|  0|  0|\n",
      "|   SDL3|        39|  0|  0|  0|\n",
      "|   SDL1|        40|  0|  0|  0|\n",
      "|   SDL3|        41|  0|  0|  0|\n",
      "|   SDL3|        42|  0|  0|  1|\n",
      "|   SDL4|        43|  0|  0|  1|\n",
      "|   SDL3|        44|  0|  0|  0|\n",
      "+-------+----------+---+---+---+\n",
      "only showing top 20 rows\n",
      "\n",
      "+-------+----------+---+---+---+\n",
      "|Line_No|SHUTTLE_NO|Jan|Feb|Mar|\n",
      "+-------+----------+---+---+---+\n",
      "|   SDL3|         3|  1|  0|  0|\n",
      "|   SDL2|        26|  0|  0|  0|\n",
      "|   SDL2|        27|  0|  0|  1|\n",
      "|   SDL3|        28|  0|  0|  1|\n",
      "|   SDL1|        29|  1|  0|  0|\n",
      "|   SDL3|        30|  1|  0|  0|\n",
      "|   SDL2|        31|  0|  0|  0|\n",
      "|   SDL2|        32|  3|  0|  1|\n",
      "|   SDL3|        33|  0|  1|  0|\n",
      "|   SDL3|        34|  0|  0|  0|\n",
      "|   SDL4|        35|  1|  0|  1|\n",
      "|   SDL3|        36|  0|  1|  0|\n",
      "|   SDL1|        37|  0|  0|  0|\n",
      "|   SDL1|        38|  0|  0|  0|\n",
      "|   SDL3|        39|  0|  0|  0|\n",
      "|   SDL1|        40|  0|  0|  0|\n",
      "|   SDL3|        41|  0|  0|  0|\n",
      "|   SDL3|        42|  0|  0|  1|\n",
      "|   SDL4|        43|  0|  0|  1|\n",
      "|   SDL3|        44|  0|  0|  0|\n",
      "+-------+----------+---+---+---+\n",
      "only showing top 20 rows\n",
      "\n",
      "+-------+----------+---+---+---+\n",
      "|Line_No|SHUTTLE_NO|Jan|Feb|Mar|\n",
      "+-------+----------+---+---+---+\n",
      "|   SDL3|         3|  1|  0|  0|\n",
      "|   SDL2|        26|  0|  0|  0|\n",
      "|   SDL2|        27|  0|  0|  1|\n",
      "|   SDL3|        28|  0|  0|  1|\n",
      "|   SDL1|        29|  1|  0|  0|\n",
      "|   SDL3|        30|  1|  0|  0|\n",
      "|   SDL2|        31|  0|  0|  0|\n",
      "|   SDL2|        32|  3|  0|  1|\n",
      "|   SDL3|        33|  0|  1|  0|\n",
      "|   SDL3|        34|  0|  0|  0|\n",
      "|   SDL4|        35|  1|  0|  1|\n",
      "|   SDL3|        36|  0|  1|  0|\n",
      "|   SDL1|        37|  0|  0|  0|\n",
      "|   SDL1|        38|  0|  0|  0|\n",
      "|   SDL3|        39|  0|  0|  0|\n",
      "|   SDL1|        40|  0|  0|  0|\n",
      "|   SDL3|        41|  0|  0|  0|\n",
      "|   SDL3|        42|  0|  0|  1|\n",
      "|   SDL4|        43|  0|  0|  1|\n",
      "|   SDL3|        44|  0|  0|  0|\n",
      "+-------+----------+---+---+---+\n",
      "only showing top 20 rows\n",
      "\n"
     ]
    }
   ],
   "source": [
    "# Drop Null rows\n",
    "sdf.na.drop(how='any').show()   # Drop if any NUll is there\n",
    "sdf.na.drop(how='all').show()   # Drop if all are NUll there\n",
    "sdf.na.drop(how='any', thresh=2).show()   # Drop if alteaset 2 null.\n",
    "sdf.na.drop(how='any',subset='Jan').show()   # Drop if null in 'Jan' Column "
   ]
  },
  {
   "cell_type": "markdown",
   "id": "a32626f6-1302-41a2-aa25-b7a0af71f49e",
   "metadata": {},
   "source": [
    "#### Null Values filling"
   ]
  },
  {
   "cell_type": "code",
   "execution_count": 37,
   "id": "648bfd84-4dbc-4c4b-8507-50a44db499df",
   "metadata": {
    "scrolled": true
   },
   "outputs": [
    {
     "name": "stdout",
     "output_type": "stream",
     "text": [
      "+-------+----------+---+---+---+\n",
      "|Line_No|SHUTTLE_NO|Jan|Feb|Mar|\n",
      "+-------+----------+---+---+---+\n",
      "|   SDL3|         3|  1|  0|  0|\n",
      "|   SDL2|        26|  0|  0|  0|\n",
      "|   SDL2|        27|  0|  0|  1|\n",
      "|   SDL3|        28|  0|  0|  1|\n",
      "|   SDL1|        29|  1|  0|  0|\n",
      "+-------+----------+---+---+---+\n",
      "only showing top 5 rows\n",
      "\n",
      "+-------+----------+---+---+---+\n",
      "|Line_No|SHUTTLE_NO|Jan|Feb|Mar|\n",
      "+-------+----------+---+---+---+\n",
      "|   SDL3|         3|  1|  0|  0|\n",
      "|   SDL2|        26|  0|  0|  0|\n",
      "|   SDL2|        27|  0|  0|  1|\n",
      "|   SDL3|        28|  0|  0|  1|\n",
      "|   SDL1|        29|  1|  0|  0|\n",
      "+-------+----------+---+---+---+\n",
      "only showing top 5 rows\n",
      "\n",
      "+-------+----------+---+---+---+\n",
      "|Line_No|SHUTTLE_NO|Jan|Feb|Mar|\n",
      "+-------+----------+---+---+---+\n",
      "|   SDL3|         3|  1|  0|  0|\n",
      "|   SDL2|        26|  0|  0|  0|\n",
      "|   SDL2|        27|  0|  0|  1|\n",
      "|   SDL3|        28|  0|  0|  1|\n",
      "|   SDL1|        29|  1|  0|  0|\n",
      "+-------+----------+---+---+---+\n",
      "only showing top 5 rows\n",
      "\n"
     ]
    }
   ],
   "source": [
    "sdf.na.fill(\"Missing Values\").show(5)   # Fillna using \"Missing Valuues in all df\n",
    "sdf.na.fill(\"Missing Values\", ['Jan', 'Feb']).show(5)   # Fillna using \"Missing Valuues in ['Jan', 'Feb'] columns\n",
    "sdf.na.fill(\"Missing Values\", ['Jan', 'Feb']).show(5)   # Fillna using mean9"
   ]
  },
  {
   "cell_type": "code",
   "execution_count": 38,
   "id": "f98a81de-870e-4230-a16a-7fe022d82f5b",
   "metadata": {},
   "outputs": [],
   "source": [
    "from pyspark.ml.feature import Imputer\n",
    "\n",
    "# Initialize the Imputer\n",
    "imputer = Imputer(\n",
    "    inputCols  = ['Jan', 'Feb', 'Mar'],\n",
    "    outputCols = [\"{}_imputed\".format(c) for c in ['Jan', 'Feb', 'Mar']]\n",
    ").setStrategy('mean')\n",
    "\n",
    "# Fit and transform the DataFrame\n",
    "sdf_imputed = imputer.fit(sdf).transform(sdf)"
   ]
  },
  {
   "cell_type": "code",
   "execution_count": 39,
   "id": "5762c6a3-884d-4ab4-aed0-af1302ead81a",
   "metadata": {},
   "outputs": [
    {
     "name": "stdout",
     "output_type": "stream",
     "text": [
      "+-------+----------+---+---+---+-----------+-----------+-----------+\n",
      "|Line_No|SHUTTLE_NO|Jan|Feb|Mar|Jan_imputed|Feb_imputed|Mar_imputed|\n",
      "+-------+----------+---+---+---+-----------+-----------+-----------+\n",
      "|   SDL3|         3|  1|  0|  0|          1|          0|          0|\n",
      "|   SDL2|        26|  0|  0|  0|          0|          0|          0|\n",
      "|   SDL2|        27|  0|  0|  1|          0|          0|          1|\n",
      "|   SDL3|        28|  0|  0|  1|          0|          0|          1|\n",
      "|   SDL1|        29|  1|  0|  0|          1|          0|          0|\n",
      "|   SDL3|        30|  1|  0|  0|          1|          0|          0|\n",
      "|   SDL2|        31|  0|  0|  0|          0|          0|          0|\n",
      "|   SDL2|        32|  3|  0|  1|          3|          0|          1|\n",
      "|   SDL3|        33|  0|  1|  0|          0|          1|          0|\n",
      "|   SDL3|        34|  0|  0|  0|          0|          0|          0|\n",
      "|   SDL4|        35|  1|  0|  1|          1|          0|          1|\n",
      "|   SDL3|        36|  0|  1|  0|          0|          1|          0|\n",
      "|   SDL1|        37|  0|  0|  0|          0|          0|          0|\n",
      "|   SDL1|        38|  0|  0|  0|          0|          0|          0|\n",
      "|   SDL3|        39|  0|  0|  0|          0|          0|          0|\n",
      "|   SDL1|        40|  0|  0|  0|          0|          0|          0|\n",
      "|   SDL3|        41|  0|  0|  0|          0|          0|          0|\n",
      "|   SDL3|        42|  0|  0|  1|          0|          0|          1|\n",
      "|   SDL4|        43|  0|  0|  1|          0|          0|          1|\n",
      "|   SDL3|        44|  0|  0|  0|          0|          0|          0|\n",
      "+-------+----------+---+---+---+-----------+-----------+-----------+\n",
      "only showing top 20 rows\n",
      "\n"
     ]
    }
   ],
   "source": [
    "# Show the result\n",
    "sdf_imputed.show()"
   ]
  },
  {
   "cell_type": "markdown",
   "id": "8e8ae2ee-9b22-467d-a83d-e3eaeb701c63",
   "metadata": {},
   "source": [
    "# Day 4"
   ]
  },
  {
   "cell_type": "code",
   "execution_count": 40,
   "id": "06419111-8556-45be-86e3-93e39f3841bd",
   "metadata": {},
   "outputs": [
    {
     "data": {
      "text/html": [
       "\n",
       "            <div>\n",
       "                <p><b>SparkSession - in-memory</b></p>\n",
       "                \n",
       "        <div>\n",
       "            <p><b>SparkContext</b></p>\n",
       "\n",
       "            <p><a href=\"http://Muqesh-QHUG4S1:4040\">Spark UI</a></p>\n",
       "\n",
       "            <dl>\n",
       "              <dt>Version</dt>\n",
       "                <dd><code>v3.5.1</code></dd>\n",
       "              <dt>Master</dt>\n",
       "                <dd><code>local[*]</code></dd>\n",
       "              <dt>AppName</dt>\n",
       "                <dd><code>Practice</code></dd>\n",
       "            </dl>\n",
       "        </div>\n",
       "        \n",
       "            </div>\n",
       "        "
      ],
      "text/plain": [
       "<pyspark.sql.session.SparkSession at 0x1ab53f52c70>"
      ]
     },
     "execution_count": 40,
     "metadata": {},
     "output_type": "execute_result"
    }
   ],
   "source": [
    "from pyspark.sql import SparkSession\n",
    "\n",
    "spark = SparkSession.builder.appName(\"Practice\").getOrCreate()\n",
    "spark"
   ]
  },
  {
   "cell_type": "code",
   "execution_count": 41,
   "id": "d8428e67-2cb2-4b54-9e61-599a753de172",
   "metadata": {},
   "outputs": [
    {
     "data": {
      "text/plain": [
       "DataFrame[Line No.: string, SHUTTLE NO.: int, Jan: int, Feb: int, Mar: int]"
      ]
     },
     "execution_count": 41,
     "metadata": {},
     "output_type": "execute_result"
    }
   ],
   "source": [
    "sdf = spark.read.csv('shuttle_service_frq.csv', header=True, inferSchema=True)\n",
    "sdf"
   ]
  },
  {
   "cell_type": "code",
   "execution_count": 42,
   "id": "5dd74c3f-45a2-4c9b-84bd-a042dbdeac9e",
   "metadata": {},
   "outputs": [
    {
     "name": "stdout",
     "output_type": "stream",
     "text": [
      "+--------+-----------+---+---+---+\n",
      "|Line No.|SHUTTLE NO.|Jan|Feb|Mar|\n",
      "+--------+-----------+---+---+---+\n",
      "|    SDL3|          3|  1|  0|  0|\n",
      "|    SDL2|         26|  0|  0|  0|\n",
      "|    SDL2|         27|  0|  0|  1|\n",
      "+--------+-----------+---+---+---+\n",
      "only showing top 3 rows\n",
      "\n"
     ]
    }
   ],
   "source": [
    "sdf.show(3)"
   ]
  },
  {
   "cell_type": "markdown",
   "id": "5bb59956-cd20-4d7c-bd9f-1eef775a1622",
   "metadata": {},
   "source": [
    "#### Filter Operation"
   ]
  },
  {
   "cell_type": "code",
   "execution_count": 43,
   "id": "a2a9c879-f30a-42b9-a821-472b7217d6bf",
   "metadata": {},
   "outputs": [
    {
     "name": "stdout",
     "output_type": "stream",
     "text": [
      "+--------+-----------+---+---+---+\n",
      "|Line No.|SHUTTLE NO.|Jan|Feb|Mar|\n",
      "+--------+-----------+---+---+---+\n",
      "|    SDL2|         32|  3|  0|  1|\n",
      "|    SDL1|         62|  3|  0|  2|\n",
      "|    SDL2|         84|  3|  0|  0|\n",
      "|    SDL2|         95|  2|  0|  0|\n",
      "|    SDL2|        108|  2|  0|  0|\n",
      "|    SDL1|        110|  2|  0|  2|\n",
      "|    SDL1|        115|  2|  1|  2|\n",
      "|    SDL4|        123|  3|  0|  1|\n",
      "|    SDL2|        124|  2|  0|  0|\n",
      "|    SDL4|        125|  4|  0|  0|\n",
      "|    SDL1|        144|  3|  0|  3|\n",
      "|    SDL2|        151|  2|  0|  1|\n",
      "+--------+-----------+---+---+---+\n",
      "\n"
     ]
    }
   ],
   "source": [
    "# Jan >= 2\n",
    "# sdf.filter('Jan>=2').show()\n",
    "sdf.filter('Jan>=2').show()\n",
    "# sdf.filter('Jan>=2').select(['jan', 'Feb']).show(5)"
   ]
  },
  {
   "cell_type": "markdown",
   "id": "e2c4c0f0-8efa-4c4c-b84f-f3d866041e52",
   "metadata": {},
   "source": [
    "###### OR"
   ]
  },
  {
   "cell_type": "code",
   "execution_count": 44,
   "id": "cb5d4ed5-114d-499e-b465-598c025c1c4e",
   "metadata": {},
   "outputs": [
    {
     "name": "stdout",
     "output_type": "stream",
     "text": [
      "+--------+-----------+---+---+---+\n",
      "|Line No.|SHUTTLE NO.|Jan|Feb|Mar|\n",
      "+--------+-----------+---+---+---+\n",
      "|    SDL2|         32|  3|  0|  1|\n",
      "|    SDL1|         62|  3|  0|  2|\n",
      "|    SDL2|         84|  3|  0|  0|\n",
      "|    SDL2|         95|  2|  0|  0|\n",
      "|    SDL2|        108|  2|  0|  0|\n",
      "|    SDL1|        110|  2|  0|  2|\n",
      "|    SDL1|        115|  2|  1|  2|\n",
      "|    SDL4|        123|  3|  0|  1|\n",
      "|    SDL2|        124|  2|  0|  0|\n",
      "|    SDL4|        125|  4|  0|  0|\n",
      "|    SDL1|        144|  3|  0|  3|\n",
      "|    SDL2|        151|  2|  0|  1|\n",
      "+--------+-----------+---+---+---+\n",
      "\n"
     ]
    }
   ],
   "source": [
    "sdf.filter(sdf['Jan']>=2).show()"
   ]
  },
  {
   "cell_type": "code",
   "execution_count": 45,
   "id": "1262acdf-32e7-4fb3-92c4-477b3cc4ecc8",
   "metadata": {},
   "outputs": [
    {
     "name": "stdout",
     "output_type": "stream",
     "text": [
      "+--------+-----------+---+---+---+\n",
      "|Line No.|SHUTTLE NO.|Jan|Feb|Mar|\n",
      "+--------+-----------+---+---+---+\n",
      "|    SDL1|        115|  2|  1|  2|\n",
      "+--------+-----------+---+---+---+\n",
      "\n"
     ]
    }
   ],
   "source": [
    "sdf.filter((sdf['Jan']>=2) & (sdf['Feb']>=1)).show()"
   ]
  },
  {
   "cell_type": "code",
   "execution_count": 46,
   "id": "7c46066c-1106-45e3-9261-d72d63c33a71",
   "metadata": {},
   "outputs": [
    {
     "name": "stdout",
     "output_type": "stream",
     "text": [
      "+--------+-----------+---+---+---+\n",
      "|Line No.|SHUTTLE NO.|Jan|Feb|Mar|\n",
      "+--------+-----------+---+---+---+\n",
      "|    SDL2|         26|  0|  0|  0|\n",
      "|    SDL2|         27|  0|  0|  1|\n",
      "|    SDL3|         28|  0|  0|  1|\n",
      "|    SDL2|         31|  0|  0|  0|\n",
      "|    SDL3|         34|  0|  0|  0|\n",
      "+--------+-----------+---+---+---+\n",
      "only showing top 5 rows\n",
      "\n"
     ]
    }
   ],
   "source": [
    "# Use of NOT\n",
    "sdf.filter(~(sdf['Jan']>=1) & ~(sdf['Feb']>=1)).show(5)"
   ]
  },
  {
   "cell_type": "markdown",
   "id": "5eb65b3d-ff3e-45db-b53c-ab86b93ed398",
   "metadata": {},
   "source": [
    "# Day 5"
   ]
  },
  {
   "cell_type": "code",
   "execution_count": 47,
   "id": "2ffefbe3-bfa3-414a-b72a-8166fa559d06",
   "metadata": {},
   "outputs": [
    {
     "data": {
      "text/html": [
       "\n",
       "            <div>\n",
       "                <p><b>SparkSession - in-memory</b></p>\n",
       "                \n",
       "        <div>\n",
       "            <p><b>SparkContext</b></p>\n",
       "\n",
       "            <p><a href=\"http://Muqesh-QHUG4S1:4040\">Spark UI</a></p>\n",
       "\n",
       "            <dl>\n",
       "              <dt>Version</dt>\n",
       "                <dd><code>v3.5.1</code></dd>\n",
       "              <dt>Master</dt>\n",
       "                <dd><code>local[*]</code></dd>\n",
       "              <dt>AppName</dt>\n",
       "                <dd><code>Practice</code></dd>\n",
       "            </dl>\n",
       "        </div>\n",
       "        \n",
       "            </div>\n",
       "        "
      ],
      "text/plain": [
       "<pyspark.sql.session.SparkSession at 0x1ab53f52c70>"
      ]
     },
     "execution_count": 47,
     "metadata": {},
     "output_type": "execute_result"
    }
   ],
   "source": [
    "from pyspark.sql import SparkSession\n",
    "\n",
    "spark  = SparkSession.builder.appName(\"Practice\").getOrCreate()\n",
    "spark"
   ]
  },
  {
   "cell_type": "code",
   "execution_count": 48,
   "id": "40e1eb29-bb6a-420e-953a-723010f36a61",
   "metadata": {},
   "outputs": [
    {
     "data": {
      "text/plain": [
       "DataFrame[Line No.: string, SHUTTLE NO.: int, Jan: int, Feb: int, Mar: int]"
      ]
     },
     "execution_count": 48,
     "metadata": {},
     "output_type": "execute_result"
    }
   ],
   "source": [
    "sdf = spark.read.csv('shuttle_service_frq.csv', header=True, inferSchema=True)\n",
    "sdf"
   ]
  },
  {
   "cell_type": "code",
   "execution_count": 49,
   "id": "d92f0605-83cb-4538-ad6c-6d47994f1d45",
   "metadata": {},
   "outputs": [
    {
     "name": "stdout",
     "output_type": "stream",
     "text": [
      "+--------+-----------+---+---+---+\n",
      "|Line No.|SHUTTLE NO.|Jan|Feb|Mar|\n",
      "+--------+-----------+---+---+---+\n",
      "|    SDL3|          3|  1|  0|  0|\n",
      "|    SDL2|         26|  0|  0|  0|\n",
      "|    SDL2|         27|  0|  0|  1|\n",
      "|    SDL3|         28|  0|  0|  1|\n",
      "|    SDL1|         29|  1|  0|  0|\n",
      "+--------+-----------+---+---+---+\n",
      "only showing top 5 rows\n",
      "\n"
     ]
    }
   ],
   "source": [
    "sdf.show(5)"
   ]
  },
  {
   "cell_type": "markdown",
   "id": "3581da99-381c-4038-9146-463d62565c1c",
   "metadata": {},
   "source": [
    "#### Groupby/Aggregation Function"
   ]
  },
  {
   "cell_type": "code",
   "execution_count": 50,
   "id": "399c4292-e254-4cbe-99f1-880aa493fbd6",
   "metadata": {},
   "outputs": [],
   "source": [
    "for col in sdf.columns:\n",
    "    new_col = col.replace(\".\", \"\").replace(\" \", \"_\")\n",
    "    sdf = sdf.withColumnRenamed(col, new_col)"
   ]
  },
  {
   "cell_type": "code",
   "execution_count": 51,
   "id": "39616fcb-f6a6-492a-b614-3bd32b038c4a",
   "metadata": {},
   "outputs": [
    {
     "name": "stdout",
     "output_type": "stream",
     "text": [
      "+-------+----------+---+---+---+\n",
      "|Line_No|SHUTTLE_NO|Jan|Feb|Mar|\n",
      "+-------+----------+---+---+---+\n",
      "|   SDL3|         3|  1|  0|  0|\n",
      "|   SDL2|        26|  0|  0|  0|\n",
      "+-------+----------+---+---+---+\n",
      "only showing top 2 rows\n",
      "\n"
     ]
    }
   ],
   "source": [
    "sdf.show(2)"
   ]
  },
  {
   "cell_type": "code",
   "execution_count": 52,
   "id": "870ecc88-bb84-41cb-96dc-faf15c60b521",
   "metadata": {},
   "outputs": [
    {
     "name": "stdout",
     "output_type": "stream",
     "text": [
      "+---+---------------+--------+--------+--------+\n",
      "|Jan|sum(SHUTTLE_NO)|sum(Jan)|sum(Feb)|sum(Mar)|\n",
      "+---+---------------+--------+--------+--------+\n",
      "|  1|           2714|      26|       6|       9|\n",
      "|  3|            445|      15|       0|       7|\n",
      "|  4|            125|       4|       0|       0|\n",
      "|  2|            703|      12|       1|       5|\n",
      "|  0|          12325|       0|      13|      34|\n",
      "+---+---------------+--------+--------+--------+\n",
      "\n"
     ]
    }
   ],
   "source": [
    "sdf.groupby('Jan').sum().show()"
   ]
  },
  {
   "cell_type": "code",
   "execution_count": 53,
   "id": "8490aca4-3e29-4cef-bb1d-1cbd38e92fd0",
   "metadata": {},
   "outputs": [
    {
     "name": "stdout",
     "output_type": "stream",
     "text": [
      "+--------+\n",
      "|sum(Jan)|\n",
      "+--------+\n",
      "|      57|\n",
      "+--------+\n",
      "\n"
     ]
    }
   ],
   "source": [
    "sdf.agg({'Jan':'sum'}).show()"
   ]
  },
  {
   "cell_type": "code",
   "execution_count": 54,
   "id": "d9c45ae5-51fc-4ce0-87f8-5645834e79d7",
   "metadata": {},
   "outputs": [
    {
     "name": "stdout",
     "output_type": "stream",
     "text": [
      "+---+---------------+--------+--------+--------+\n",
      "|Jan|min(SHUTTLE_NO)|min(Jan)|min(Feb)|min(Mar)|\n",
      "+---+---------------+--------+--------+--------+\n",
      "|  1|              3|       1|       0|       0|\n",
      "|  3|             32|       3|       0|       0|\n",
      "|  4|            125|       4|       0|       0|\n",
      "|  2|             95|       2|       0|       0|\n",
      "|  0|             26|       0|       0|       0|\n",
      "+---+---------------+--------+--------+--------+\n",
      "\n",
      "+---+---------------+--------+--------+--------+\n",
      "|Jan|max(SHUTTLE_NO)|max(Jan)|max(Feb)|max(Mar)|\n",
      "+---+---------------+--------+--------+--------+\n",
      "|  1|            451|       1|       1|       2|\n",
      "|  3|            144|       3|       0|       3|\n",
      "|  4|            125|       4|       0|       0|\n",
      "|  2|            151|       2|       1|       2|\n",
      "|  0|            787|       0|       2|       3|\n",
      "+---+---------------+--------+--------+--------+\n",
      "\n",
      "+---+------------------+--------+-------------------+-------------------+\n",
      "|Jan|   avg(SHUTTLE_NO)|avg(Jan)|           avg(Feb)|           avg(Mar)|\n",
      "+---+------------------+--------+-------------------+-------------------+\n",
      "|  1|104.38461538461539|     1.0|0.23076923076923078|0.34615384615384615|\n",
      "|  3|              89.0|     3.0|                0.0|                1.4|\n",
      "|  4|             125.0|     4.0|                0.0|                0.0|\n",
      "|  2|117.16666666666667|     2.0|0.16666666666666666| 0.8333333333333334|\n",
      "|  0|128.38541666666666|     0.0|0.13541666666666666| 0.3541666666666667|\n",
      "+---+------------------+--------+-------------------+-------------------+\n",
      "\n"
     ]
    }
   ],
   "source": [
    "sdf.groupby('Jan').min().show()\n",
    "sdf.groupby('Jan').max().show()\n",
    "sdf.groupby('Jan').avg().show() "
   ]
  },
  {
   "cell_type": "markdown",
   "id": "b9170d7c-180a-4d77-a3a4-a27cff5b7d79",
   "metadata": {},
   "source": [
    "# Day 6"
   ]
  },
  {
   "cell_type": "code",
   "execution_count": 55,
   "id": "c533d88c-568b-4f5a-812a-3ed06b14309e",
   "metadata": {},
   "outputs": [
    {
     "data": {
      "text/html": [
       "\n",
       "            <div>\n",
       "                <p><b>SparkSession - in-memory</b></p>\n",
       "                \n",
       "        <div>\n",
       "            <p><b>SparkContext</b></p>\n",
       "\n",
       "            <p><a href=\"http://Muqesh-QHUG4S1:4040\">Spark UI</a></p>\n",
       "\n",
       "            <dl>\n",
       "              <dt>Version</dt>\n",
       "                <dd><code>v3.5.1</code></dd>\n",
       "              <dt>Master</dt>\n",
       "                <dd><code>local[*]</code></dd>\n",
       "              <dt>AppName</dt>\n",
       "                <dd><code>Practice</code></dd>\n",
       "            </dl>\n",
       "        </div>\n",
       "        \n",
       "            </div>\n",
       "        "
      ],
      "text/plain": [
       "<pyspark.sql.session.SparkSession at 0x1ab53f52c70>"
      ]
     },
     "execution_count": 55,
     "metadata": {},
     "output_type": "execute_result"
    }
   ],
   "source": [
    "from pyspark.sql import SparkSession\n",
    "\n",
    "sp = SparkSession.builder.appName(\"mLib\").getOrCreate()\n",
    "sp"
   ]
  },
  {
   "cell_type": "code",
   "execution_count": 56,
   "id": "5c1c2ef9-3c65-4e68-8401-b1daf03d54d3",
   "metadata": {},
   "outputs": [
    {
     "data": {
      "text/plain": [
       "DataFrame[Line No.: string, SHUTTLE NO.: int, Jan: int, Feb: int, Mar: int]"
      ]
     },
     "execution_count": 56,
     "metadata": {},
     "output_type": "execute_result"
    }
   ],
   "source": [
    "sdf = sp.read.csv('shuttle_service_frq.csv', header=True, inferSchema=True)\n",
    "sdf"
   ]
  },
  {
   "cell_type": "code",
   "execution_count": 57,
   "id": "0f31deee-6730-412e-a2d8-3ada36c23d89",
   "metadata": {},
   "outputs": [
    {
     "name": "stdout",
     "output_type": "stream",
     "text": [
      "+--------+-----------+---+---+---+\n",
      "|Line No.|SHUTTLE NO.|Jan|Feb|Mar|\n",
      "+--------+-----------+---+---+---+\n",
      "|    SDL3|          3|  1|  0|  0|\n",
      "|    SDL2|         26|  0|  0|  0|\n",
      "|    SDL2|         27|  0|  0|  1|\n",
      "+--------+-----------+---+---+---+\n",
      "only showing top 3 rows\n",
      "\n"
     ]
    }
   ],
   "source": [
    "sdf.show(3)"
   ]
  },
  {
   "cell_type": "markdown",
   "id": "236ac102-704f-4547-9770-a37eeff7bb3d",
   "metadata": {},
   "source": [
    "##### MLib"
   ]
  },
  {
   "cell_type": "code",
   "execution_count": 58,
   "id": "1f0d6451-3f33-4117-add0-dc029e26aaa1",
   "metadata": {},
   "outputs": [],
   "source": [
    "for col in sdf.columns:\n",
    "    new_Col = col.replace(' ', '_').replace(\".\", '')\n",
    "    sdf = sdf.withColumnRenamed(col, new_Col)"
   ]
  },
  {
   "cell_type": "code",
   "execution_count": 59,
   "id": "f53e2e5a-9536-4d71-bad3-ec3dd8601d8b",
   "metadata": {
    "jp-MarkdownHeadingCollapsed": true
   },
   "outputs": [
    {
     "name": "stdout",
     "output_type": "stream",
     "text": [
      "+-------+----------+---+---+---+\n",
      "|Line_No|SHUTTLE_NO|Jan|Feb|Mar|\n",
      "+-------+----------+---+---+---+\n",
      "|   SDL3|         3|  1|  0|  0|\n",
      "|   SDL2|        26|  0|  0|  0|\n",
      "|   SDL2|        27|  0|  0|  1|\n",
      "|   SDL3|        28|  0|  0|  1|\n",
      "|   SDL1|        29|  1|  0|  0|\n",
      "+-------+----------+---+---+---+\n",
      "only showing top 5 rows\n",
      "\n"
     ]
    }
   ],
   "source": [
    "sdf.show(5)"
   ]
  },
  {
   "cell_type": "code",
   "execution_count": 60,
   "id": "11a8d88e-0d01-4fd1-95f9-abd292ce6739",
   "metadata": {},
   "outputs": [
    {
     "name": "stdout",
     "output_type": "stream",
     "text": [
      "root\n",
      " |-- Line_No: string (nullable = true)\n",
      " |-- SHUTTLE_NO: integer (nullable = true)\n",
      " |-- Jan: integer (nullable = true)\n",
      " |-- Feb: integer (nullable = true)\n",
      " |-- Mar: integer (nullable = true)\n",
      "\n"
     ]
    }
   ],
   "source": [
    "sdf.printSchema()"
   ]
  },
  {
   "cell_type": "markdown",
   "id": "2429d52c-a377-4af4-bcf9-e890a12235c7",
   "metadata": {},
   "source": [
    "##### X & y Splitting"
   ]
  },
  {
   "cell_type": "code",
   "execution_count": 61,
   "id": "835825f7-bc49-4c64-9856-5bde20d40d1b",
   "metadata": {},
   "outputs": [
    {
     "name": "stdout",
     "output_type": "stream",
     "text": [
      "+-------+----------+---+---+---+-------------------+\n",
      "|Line_No|SHUTTLE_NO|Jan|Feb|Mar|Independent_Feature|\n",
      "+-------+----------+---+---+---+-------------------+\n",
      "|   SDL3|         3|  1|  0|  0|      [3.0,1.0,0.0]|\n",
      "|   SDL2|        26|  0|  0|  0|     [26.0,0.0,0.0]|\n",
      "|   SDL2|        27|  0|  0|  1|     [27.0,0.0,0.0]|\n",
      "|   SDL3|        28|  0|  0|  1|     [28.0,0.0,0.0]|\n",
      "|   SDL1|        29|  1|  0|  0|     [29.0,1.0,0.0]|\n",
      "|   SDL3|        30|  1|  0|  0|     [30.0,1.0,0.0]|\n",
      "|   SDL2|        31|  0|  0|  0|     [31.0,0.0,0.0]|\n",
      "|   SDL2|        32|  3|  0|  1|     [32.0,3.0,0.0]|\n",
      "|   SDL3|        33|  0|  1|  0|     [33.0,0.0,1.0]|\n",
      "|   SDL3|        34|  0|  0|  0|     [34.0,0.0,0.0]|\n",
      "|   SDL4|        35|  1|  0|  1|     [35.0,1.0,0.0]|\n",
      "|   SDL3|        36|  0|  1|  0|     [36.0,0.0,1.0]|\n",
      "|   SDL1|        37|  0|  0|  0|     [37.0,0.0,0.0]|\n",
      "|   SDL1|        38|  0|  0|  0|     [38.0,0.0,0.0]|\n",
      "|   SDL3|        39|  0|  0|  0|     [39.0,0.0,0.0]|\n",
      "|   SDL1|        40|  0|  0|  0|     [40.0,0.0,0.0]|\n",
      "|   SDL3|        41|  0|  0|  0|     [41.0,0.0,0.0]|\n",
      "|   SDL3|        42|  0|  0|  1|     [42.0,0.0,0.0]|\n",
      "|   SDL4|        43|  0|  0|  1|     [43.0,0.0,0.0]|\n",
      "|   SDL3|        44|  0|  0|  0|     [44.0,0.0,0.0]|\n",
      "+-------+----------+---+---+---+-------------------+\n",
      "only showing top 20 rows\n",
      "\n"
     ]
    }
   ],
   "source": [
    "from pyspark.ml.feature import VectorAssembler\n",
    "\n",
    "# Dendent and Independent Variable\n",
    "featureAss = VectorAssembler(inputCols=['SHUTTLE_NO', 'Jan', 'Feb'], outputCol=\"Independent_Feature\")\n",
    "\n",
    "output = featureAss.transform(sdf)\n",
    "output.show()"
   ]
  },
  {
   "cell_type": "code",
   "execution_count": 62,
   "id": "4d54ec3e-8b0d-4276-b107-4b3d5a7f77ae",
   "metadata": {},
   "outputs": [
    {
     "data": {
      "text/plain": [
       "['Line_No', 'SHUTTLE_NO', 'Jan', 'Feb', 'Mar', 'Independent_Feature']"
      ]
     },
     "execution_count": 62,
     "metadata": {},
     "output_type": "execute_result"
    }
   ],
   "source": [
    "output.columns "
   ]
  },
  {
   "cell_type": "code",
   "execution_count": 63,
   "id": "84f6c765-3e91-4570-86b0-bcdab6119b82",
   "metadata": {},
   "outputs": [
    {
     "name": "stdout",
     "output_type": "stream",
     "text": [
      "+-------------------+---+\n",
      "|Independent_Feature|Mar|\n",
      "+-------------------+---+\n",
      "|      [3.0,1.0,0.0]|  0|\n",
      "|     [26.0,0.0,0.0]|  0|\n",
      "|     [27.0,0.0,0.0]|  1|\n",
      "|     [28.0,0.0,0.0]|  1|\n",
      "|     [29.0,1.0,0.0]|  0|\n",
      "|     [30.0,1.0,0.0]|  0|\n",
      "|     [31.0,0.0,0.0]|  0|\n",
      "|     [32.0,3.0,0.0]|  1|\n",
      "|     [33.0,0.0,1.0]|  0|\n",
      "|     [34.0,0.0,0.0]|  0|\n",
      "|     [35.0,1.0,0.0]|  1|\n",
      "|     [36.0,0.0,1.0]|  0|\n",
      "|     [37.0,0.0,0.0]|  0|\n",
      "|     [38.0,0.0,0.0]|  0|\n",
      "|     [39.0,0.0,0.0]|  0|\n",
      "|     [40.0,0.0,0.0]|  0|\n",
      "|     [41.0,0.0,0.0]|  0|\n",
      "|     [42.0,0.0,0.0]|  1|\n",
      "|     [43.0,0.0,0.0]|  1|\n",
      "|     [44.0,0.0,0.0]|  0|\n",
      "+-------------------+---+\n",
      "only showing top 20 rows\n",
      "\n"
     ]
    }
   ],
   "source": [
    "fdf = output.select(['Independent_Feature', 'Mar'])\n",
    "fdf.show()"
   ]
  },
  {
   "cell_type": "markdown",
   "id": "abbfc427-7786-498e-98a2-c9ff0b11481a",
   "metadata": {},
   "source": [
    "##### Model"
   ]
  },
  {
   "cell_type": "code",
   "execution_count": 64,
   "id": "65d6bcc3-9136-4ea3-aa6f-cb8db7560896",
   "metadata": {},
   "outputs": [
    {
     "data": {
      "text/plain": [
       "(DenseVector([-0.0003, 0.0738, 0.1791]), 0.38253961435629263)"
      ]
     },
     "execution_count": 64,
     "metadata": {},
     "output_type": "execute_result"
    }
   ],
   "source": [
    "from pyspark.ml.regression import LinearRegression\n",
    "\n",
    "# Train Test Split\n",
    "train_df, test_df = fdf.randomSplit([0.75, 0.25], seed=42)\n",
    "\n",
    "# Model Initiation\n",
    "reg = LinearRegression(featuresCol='Independent_Feature', labelCol='Mar')\n",
    "# Model Fitting \n",
    "reg = reg.fit(train_df)\n",
    "\n",
    "# Regression Elements (X's, and c)\n",
    "reg.coefficients, reg.intercept"
   ]
  },
  {
   "cell_type": "markdown",
   "id": "9e983208-8030-4c0c-ab3c-a6b73911b3df",
   "metadata": {},
   "source": [
    "##### Prediction"
   ]
  },
  {
   "cell_type": "code",
   "execution_count": 65,
   "id": "a5583fc1-6327-4624-a85e-ad526a5ef149",
   "metadata": {},
   "outputs": [
    {
     "name": "stdout",
     "output_type": "stream",
     "text": [
      "+-------------------+---+-------------------+\n",
      "|Independent_Feature|Mar|         prediction|\n",
      "+-------------------+---+-------------------+\n",
      "|     [27.0,0.0,0.0]|  1|0.37367050016305536|\n",
      "|     [31.0,0.0,0.0]|  0|0.37235655731961276|\n",
      "|     [33.0,0.0,1.0]|  0| 0.5508075476808526|\n",
      "|     [34.0,0.0,0.0]|  0|0.37137110018703084|\n",
      "|     [38.0,0.0,0.0]|  0| 0.3700571573435883|\n",
      "|     [44.0,0.0,0.0]|  0|0.36808624307842447|\n",
      "|     [48.0,0.0,0.0]|  0| 0.3667723002349819|\n",
      "|     [54.0,0.0,0.0]|  0|0.36480138596981804|\n",
      "|     [55.0,0.0,0.0]|  0| 0.3644729002589574|\n",
      "|     [57.0,0.0,0.0]|  1| 0.3638159288372361|\n",
      "|     [59.0,0.0,0.0]|  0|0.36315895741551485|\n",
      "|     [60.0,0.0,0.0]|  0| 0.3628304717046542|\n",
      "|     [67.0,0.0,0.0]|  0|0.36053107172862975|\n",
      "|     [70.0,0.0,0.0]|  1| 0.3595456145960478|\n",
      "|     [71.0,0.0,0.0]|  0|0.35921712888518714|\n",
      "|     [72.0,0.0,0.0]|  0| 0.3588886431743265|\n",
      "|     [74.0,0.0,0.0]|  0|0.35823167175260523|\n",
      "|     [76.0,0.0,0.0]|  0|0.35757470033088395|\n",
      "|     [80.0,0.0,1.0]|  1| 0.5353687192704025|\n",
      "|     [87.0,0.0,1.0]|  0| 0.5330693192943781|\n",
      "+-------------------+---+-------------------+\n",
      "only showing top 20 rows\n",
      "\n"
     ]
    }
   ],
   "source": [
    "pred = reg.evaluate(test_df)\n",
    "pred.predictions.show()"
   ]
  },
  {
   "cell_type": "code",
   "execution_count": 66,
   "id": "5b892be9-ce45-4b06-aceb-c8fbcbf56532",
   "metadata": {},
   "outputs": [
    {
     "data": {
      "text/plain": [
       "(0.5788255503317775, 0.5688966674789168)"
      ]
     },
     "execution_count": 66,
     "metadata": {},
     "output_type": "execute_result"
    }
   ],
   "source": [
    "pred.meanAbsoluteError, pred.meanSquaredError"
   ]
  },
  {
   "cell_type": "markdown",
   "id": "49f2c4bc-a0c8-4aa2-8ab5-70f18e502618",
   "metadata": {},
   "source": [
    "# "
   ]
  },
  {
   "cell_type": "markdown",
   "id": "b5fe0363-5520-417a-9a36-792baecff2b2",
   "metadata": {},
   "source": [
    "# "
   ]
  },
  {
   "cell_type": "markdown",
   "id": "b3293630-ffdd-4100-b96b-dde03258247d",
   "metadata": {},
   "source": [
    "# "
   ]
  },
  {
   "cell_type": "markdown",
   "id": "5b337010-ad96-4f8f-a03f-1fce94775eef",
   "metadata": {},
   "source": [
    "# Basic"
   ]
  },
  {
   "cell_type": "code",
   "execution_count": 67,
   "id": "11b80e52-a91e-4ec7-b9d6-4d476a4243bc",
   "metadata": {},
   "outputs": [
    {
     "data": {
      "text/html": [
       "\n",
       "            <div>\n",
       "                <p><b>SparkSession - in-memory</b></p>\n",
       "                \n",
       "        <div>\n",
       "            <p><b>SparkContext</b></p>\n",
       "\n",
       "            <p><a href=\"http://Muqesh-QHUG4S1:4040\">Spark UI</a></p>\n",
       "\n",
       "            <dl>\n",
       "              <dt>Version</dt>\n",
       "                <dd><code>v3.5.1</code></dd>\n",
       "              <dt>Master</dt>\n",
       "                <dd><code>local[*]</code></dd>\n",
       "              <dt>AppName</dt>\n",
       "                <dd><code>Practice</code></dd>\n",
       "            </dl>\n",
       "        </div>\n",
       "        \n",
       "            </div>\n",
       "        "
      ],
      "text/plain": [
       "<pyspark.sql.session.SparkSession at 0x1ab53f52c70>"
      ]
     },
     "execution_count": 67,
     "metadata": {},
     "output_type": "execute_result"
    }
   ],
   "source": [
    "# Starting Spark Session\n",
    "from pyspark.sql import SparkSession\n",
    "\n",
    "spark = SparkSession.builder.appName(\"Practice1\").getOrCreate()\n",
    "spark"
   ]
  },
  {
   "cell_type": "code",
   "execution_count": 68,
   "id": "ed92cd78-58df-4c38-98ac-72517700f162",
   "metadata": {},
   "outputs": [
    {
     "name": "stdout",
     "output_type": "stream",
     "text": [
      "+--------+-----------+---+---+---+\n",
      "|Line No.|SHUTTLE NO.|Jan|Feb|Mar|\n",
      "+--------+-----------+---+---+---+\n",
      "|    SDL3|          3|  1|  0|  0|\n",
      "|    SDL2|         26|  0|  0|  0|\n",
      "|    SDL2|         27|  0|  0|  1|\n",
      "+--------+-----------+---+---+---+\n",
      "only showing top 3 rows\n",
      "\n"
     ]
    }
   ],
   "source": [
    "df = spark.read.csv(\"shuttle_service_frq.csv\", header=True, inferSchema=True)\n",
    "df.show(3)"
   ]
  },
  {
   "cell_type": "code",
   "execution_count": 69,
   "id": "1451e878-d3d1-4b2e-9567-5e2de781f9db",
   "metadata": {},
   "outputs": [
    {
     "name": "stdout",
     "output_type": "stream",
     "text": [
      "+--------+-----------+---+---+---+\n",
      "|Line No.|SHUTTLE NO.|Jan|Feb|Mar|\n",
      "+--------+-----------+---+---+---+\n",
      "|    SDL3|          3|  1|  0|  0|\n",
      "|    SDL2|         26|  0|  0|  0|\n",
      "|    SDL2|         27|  0|  0|  1|\n",
      "+--------+-----------+---+---+---+\n",
      "only showing top 3 rows\n",
      "\n"
     ]
    }
   ],
   "source": [
    "df.show(3)"
   ]
  },
  {
   "cell_type": "code",
   "execution_count": 70,
   "id": "1b6ea4e6-72f6-49e5-96f3-b2800461c026",
   "metadata": {},
   "outputs": [
    {
     "name": "stdout",
     "output_type": "stream",
     "text": [
      "[{\"Line No.\": \"SDL3\", \"SHUTTLE NO.\": 3, \"Jan\": 1, \"Feb\": 0, \"Mar\": 0}, {\"Line No.\": \"SDL2\", \"SHUTTLE NO.\": 26, \"Jan\": 0, \"Feb\": 0, \"Mar\": 0}, {\"Line No.\": \"SDL2\", \"SHUTTLE NO.\": 27, \"Jan\": 0, \"Feb\": 0, \"Mar\": 1}, {\"Line No.\": \"SDL3\", \"SHUTTLE NO.\": 28, \"Jan\": 0, \"Feb\": 0, \"Mar\": 1}, {\"Line No.\": \"SDL1\", \"SHUTTLE NO.\": 29, \"Jan\": 1, \"Feb\": 0, \"Mar\": 0}, {\"Line No.\": \"SDL3\", \"SHUTTLE NO.\": 30, \"Jan\": 1, \"Feb\": 0, \"Mar\": 0}, {\"Line No.\": \"SDL2\", \"SHUTTLE NO.\": 31, \"Jan\": 0, \"Feb\": 0, \"Mar\": 0}, {\"Line No.\": \"SDL2\", \"SHUTTLE NO.\": 32, \"Jan\": 3, \"Feb\": 0, \"Mar\": 1}, {\"Line No.\": \"SDL3\", \"SHUTTLE NO.\": 33, \"Jan\": 0, \"Feb\": 1, \"Mar\": 0}, {\"Line No.\": \"SDL3\", \"SHUTTLE NO.\": 34, \"Jan\": 0, \"Feb\": 0, \"Mar\": 0}]\n"
     ]
    }
   ],
   "source": [
    "import json\n",
    "\n",
    "# Show preview as JSON \n",
    "\n",
    "# df.collect()\n",
    "# [row.asDict(recursive=True) for row in df.collect()]\n",
    "print(json.dumps([row.asDict(recursive=True) for row in df.collect()[:10]]))"
   ]
  },
  {
   "cell_type": "code",
   "execution_count": 71,
   "id": "a5260679-0616-4b6e-abf5-a449abebd32e",
   "metadata": {},
   "outputs": [
    {
     "name": "stdout",
     "output_type": "stream",
     "text": [
      "Total Number of Records: 134\n"
     ]
    }
   ],
   "source": [
    "# Total Records\n",
    "print(f\"Total Number of Records: {df.count()}\")"
   ]
  },
  {
   "cell_type": "code",
   "execution_count": 72,
   "id": "eddafad4-3602-4e83-a97f-57eca16fb399",
   "metadata": {},
   "outputs": [
    {
     "name": "stdout",
     "output_type": "stream",
     "text": [
      "Total number of Columns: 5\n"
     ]
    },
    {
     "data": {
      "text/plain": [
       "['Line No.', 'SHUTTLE NO.', 'Jan', 'Feb', 'Mar']"
      ]
     },
     "execution_count": 72,
     "metadata": {},
     "output_type": "execute_result"
    }
   ],
   "source": [
    "print(f\"Total number of Columns: {len(df.columns)}\")\n",
    "df.columns"
   ]
  },
  {
   "cell_type": "code",
   "execution_count": 73,
   "id": "70f7c867-62d5-4043-9079-44f4c7b95a81",
   "metadata": {},
   "outputs": [
    {
     "name": "stdout",
     "output_type": "stream",
     "text": [
      "Shape of the df: 134, 5\n"
     ]
    }
   ],
   "source": [
    "# Shape of the df\n",
    "print(f\"Shape of the df: {df.count()}, {len(df.columns)}\")"
   ]
  },
  {
   "cell_type": "code",
   "execution_count": 74,
   "id": "a6cb1fbc-fb16-4ab3-a584-08fb353f8c4b",
   "metadata": {},
   "outputs": [
    {
     "data": {
      "text/plain": [
       "StructType([StructField('Line No.', StringType(), True), StructField('SHUTTLE NO.', IntegerType(), True), StructField('Jan', IntegerType(), True), StructField('Feb', IntegerType(), True), StructField('Mar', IntegerType(), True)])"
      ]
     },
     "execution_count": 74,
     "metadata": {},
     "output_type": "execute_result"
    }
   ],
   "source": [
    "# Schema of the df\n",
    "df.schema"
   ]
  },
  {
   "cell_type": "code",
   "execution_count": 75,
   "id": "0131d8b7-9a60-4494-b72f-d0c8e4155423",
   "metadata": {},
   "outputs": [
    {
     "data": {
      "text/plain": [
       "[Row(Line No.='SDL3', SHUTTLE NO.=3, Jan=1, Feb=0, Mar=0),\n",
       " Row(Line No.='SDL2', SHUTTLE NO.=26, Jan=0, Feb=0, Mar=0),\n",
       " Row(Line No.='SDL2', SHUTTLE NO.=27, Jan=0, Feb=0, Mar=1),\n",
       " Row(Line No.='SDL3', SHUTTLE NO.=28, Jan=0, Feb=0, Mar=1),\n",
       " Row(Line No.='SDL1', SHUTTLE NO.=29, Jan=1, Feb=0, Mar=0)]"
      ]
     },
     "execution_count": 75,
     "metadata": {},
     "output_type": "execute_result"
    }
   ],
   "source": [
    "# List of Records\n",
    "df.collect()[:5]"
   ]
  },
  {
   "cell_type": "code",
   "execution_count": 76,
   "id": "37990e2c-952a-4628-a064-debd48b33a68",
   "metadata": {},
   "outputs": [
    {
     "data": {
      "text/plain": [
       "[{'Line No.': 'SDL3', 'SHUTTLE NO.': 3, 'Jan': 1, 'Feb': 0, 'Mar': 0},\n",
       " {'Line No.': 'SDL2', 'SHUTTLE NO.': 26, 'Jan': 0, 'Feb': 0, 'Mar': 0},\n",
       " {'Line No.': 'SDL2', 'SHUTTLE NO.': 27, 'Jan': 0, 'Feb': 0, 'Mar': 1},\n",
       " {'Line No.': 'SDL3', 'SHUTTLE NO.': 28, 'Jan': 0, 'Feb': 0, 'Mar': 1},\n",
       " {'Line No.': 'SDL1', 'SHUTTLE NO.': 29, 'Jan': 1, 'Feb': 0, 'Mar': 0}]"
      ]
     },
     "execution_count": 76,
     "metadata": {},
     "output_type": "execute_result"
    }
   ],
   "source": [
    "# Get as List of Dictionary of the Recoreds\n",
    "[rows.asDict() for rows in df.collect()[:5]]"
   ]
  },
  {
   "cell_type": "code",
   "execution_count": 77,
   "id": "42412d15-f70b-44f4-9bf3-ba6b4fa620d6",
   "metadata": {},
   "outputs": [
    {
     "data": {
      "text/html": [
       "<div>\n",
       "<style scoped>\n",
       "    .dataframe tbody tr th:only-of-type {\n",
       "        vertical-align: middle;\n",
       "    }\n",
       "\n",
       "    .dataframe tbody tr th {\n",
       "        vertical-align: top;\n",
       "    }\n",
       "\n",
       "    .dataframe thead th {\n",
       "        text-align: right;\n",
       "    }\n",
       "</style>\n",
       "<table border=\"1\" class=\"dataframe\">\n",
       "  <thead>\n",
       "    <tr style=\"text-align: right;\">\n",
       "      <th></th>\n",
       "      <th>Line No.</th>\n",
       "      <th>SHUTTLE NO.</th>\n",
       "      <th>Jan</th>\n",
       "      <th>Feb</th>\n",
       "      <th>Mar</th>\n",
       "    </tr>\n",
       "  </thead>\n",
       "  <tbody>\n",
       "    <tr>\n",
       "      <th>0</th>\n",
       "      <td>SDL3</td>\n",
       "      <td>3</td>\n",
       "      <td>1</td>\n",
       "      <td>0</td>\n",
       "      <td>0</td>\n",
       "    </tr>\n",
       "    <tr>\n",
       "      <th>1</th>\n",
       "      <td>SDL2</td>\n",
       "      <td>26</td>\n",
       "      <td>0</td>\n",
       "      <td>0</td>\n",
       "      <td>0</td>\n",
       "    </tr>\n",
       "    <tr>\n",
       "      <th>2</th>\n",
       "      <td>SDL2</td>\n",
       "      <td>27</td>\n",
       "      <td>0</td>\n",
       "      <td>0</td>\n",
       "      <td>1</td>\n",
       "    </tr>\n",
       "    <tr>\n",
       "      <th>3</th>\n",
       "      <td>SDL3</td>\n",
       "      <td>28</td>\n",
       "      <td>0</td>\n",
       "      <td>0</td>\n",
       "      <td>1</td>\n",
       "    </tr>\n",
       "    <tr>\n",
       "      <th>4</th>\n",
       "      <td>SDL1</td>\n",
       "      <td>29</td>\n",
       "      <td>1</td>\n",
       "      <td>0</td>\n",
       "      <td>0</td>\n",
       "    </tr>\n",
       "  </tbody>\n",
       "</table>\n",
       "</div>"
      ],
      "text/plain": [
       "  Line No.  SHUTTLE NO.  Jan  Feb  Mar\n",
       "0     SDL3            3    1    0    0\n",
       "1     SDL2           26    0    0    0\n",
       "2     SDL2           27    0    0    1\n",
       "3     SDL3           28    0    0    1\n",
       "4     SDL1           29    1    0    0"
      ]
     },
     "execution_count": 77,
     "metadata": {},
     "output_type": "execute_result"
    }
   ],
   "source": [
    "# Covert to Pandas df format\n",
    "df.toPandas().head()"
   ]
  },
  {
   "cell_type": "markdown",
   "id": "b551c2dd-c48e-412d-888d-f9308dbaa940",
   "metadata": {},
   "source": [
    "# Filter Data "
   ]
  },
  {
   "cell_type": "code",
   "execution_count": 78,
   "id": "9a500452-e6a1-408c-b98b-a98ed8e4c66d",
   "metadata": {},
   "outputs": [],
   "source": [
    "from pyspark.sql import functions as F, types as T"
   ]
  },
  {
   "cell_type": "code",
   "execution_count": 79,
   "id": "4790ea14-5080-4ba7-98b5-7720a496b8a1",
   "metadata": {},
   "outputs": [
    {
     "name": "stdout",
     "output_type": "stream",
     "text": [
      "+--------+-----------+---+---+---+\n",
      "|Line No.|SHUTTLE NO.|Jan|Feb|Mar|\n",
      "+--------+-----------+---+---+---+\n",
      "|    SDL3|          3|  1|  0|  0|\n",
      "|    SDL1|         29|  1|  0|  0|\n",
      "|    SDL3|         30|  1|  0|  0|\n",
      "|    SDL4|         35|  1|  0|  1|\n",
      "|    SDL4|         50|  1|  0|  0|\n",
      "+--------+-----------+---+---+---+\n",
      "only showing top 5 rows\n",
      "\n"
     ]
    }
   ],
   "source": [
    "df.filter(df.Jan == 1).show(5)"
   ]
  },
  {
   "cell_type": "code",
   "execution_count": 80,
   "id": "8b73aa5e-6062-40a6-8af4-5ad73747045d",
   "metadata": {},
   "outputs": [
    {
     "name": "stdout",
     "output_type": "stream",
     "text": [
      "+--------+-----------+---+---+---+\n",
      "|Line No.|SHUTTLE NO.|Jan|Feb|Mar|\n",
      "+--------+-----------+---+---+---+\n",
      "|    SDL3|        453|  0|  2|  0|\n",
      "+--------+-----------+---+---+---+\n",
      "\n"
     ]
    }
   ],
   "source": [
    "df.filter(df['Feb'] >1).show()"
   ]
  },
  {
   "cell_type": "code",
   "execution_count": 81,
   "id": "62d284e4-8a5f-44fa-83d4-b915df5df0f0",
   "metadata": {},
   "outputs": [
    {
     "name": "stdout",
     "output_type": "stream",
     "text": [
      "+--------+-----------+---+---+---+\n",
      "|Line No.|SHUTTLE NO.|Jan|Feb|Mar|\n",
      "+--------+-----------+---+---+---+\n",
      "|    SDL3|        607|  0|  0|  0|\n",
      "|    SDL4|        608|  0|  0|  0|\n",
      "|    SDL3|        609|  0|  0|  0|\n",
      "|    SDL1|        610|  0|  0|  0|\n",
      "|    SDL1|        786|  0|  0|  1|\n",
      "|    SDL4|        787|  0|  0|  0|\n",
      "+--------+-----------+---+---+---+\n",
      "\n"
     ]
    }
   ],
   "source": [
    "df.filter(df['`SHUTTLE NO.`'] >500).show()"
   ]
  },
  {
   "cell_type": "code",
   "execution_count": 82,
   "id": "b5ae1854-61a0-4be3-8dab-b844477bc02e",
   "metadata": {},
   "outputs": [
    {
     "name": "stdout",
     "output_type": "stream",
     "text": [
      "Line_No\n",
      "SHUTTLE_NO\n",
      "Jan\n",
      "Feb\n",
      "Mar\n",
      "+-------+----------+---+---+---+\n",
      "|Line_No|SHUTTLE_NO|Jan|Feb|Mar|\n",
      "+-------+----------+---+---+---+\n",
      "|   SDL3|         3|  1|  0|  0|\n",
      "|   SDL2|        26|  0|  0|  0|\n",
      "|   SDL2|        27|  0|  0|  1|\n",
      "|   SDL3|        28|  0|  0|  1|\n",
      "|   SDL1|        29|  1|  0|  0|\n",
      "+-------+----------+---+---+---+\n",
      "only showing top 5 rows\n",
      "\n"
     ]
    }
   ],
   "source": [
    "# Renaming the column name \n",
    "\n",
    "for col in df.columns:\n",
    "    new_cols = col.replace(\" \", \"_\").replace(\".\", \"\")\n",
    "    print(new_cols)\n",
    "    df = df.withColumnRenamed(col, new_cols)\n",
    "\n",
    "df.show(5)"
   ]
  },
  {
   "cell_type": "code",
   "execution_count": 83,
   "id": "ccf26960-cc50-457a-aa25-36a1d9ac616e",
   "metadata": {},
   "outputs": [
    {
     "name": "stdout",
     "output_type": "stream",
     "text": [
      "+-------+----------+---+---+---+\n",
      "|Line_No|SHUTTLE_NO|Jan|Feb|Mar|\n",
      "+-------+----------+---+---+---+\n",
      "|   SDL3|       607|  0|  0|  0|\n",
      "|   SDL4|       608|  0|  0|  0|\n",
      "|   SDL3|       609|  0|  0|  0|\n",
      "|   SDL1|       610|  0|  0|  0|\n",
      "|   SDL1|       786|  0|  0|  1|\n",
      "|   SDL4|       787|  0|  0|  0|\n",
      "+-------+----------+---+---+---+\n",
      "\n"
     ]
    }
   ],
   "source": [
    "df.filter(df.SHUTTLE_NO>600).show()"
   ]
  },
  {
   "cell_type": "code",
   "execution_count": 84,
   "id": "82479c4a-e2b5-4dea-91bb-dab9654cfa71",
   "metadata": {},
   "outputs": [
    {
     "name": "stdout",
     "output_type": "stream",
     "text": [
      "+-------+----------+---+---+---+\n",
      "|Line_No|SHUTTLE_NO|Jan|Feb|Mar|\n",
      "+-------+----------+---+---+---+\n",
      "|   SDL2|        32|  3|  0|  1|\n",
      "|   SDL1|        62|  3|  0|  2|\n",
      "|   SDL2|        84|  3|  0|  0|\n",
      "|   SDL2|        95|  2|  0|  0|\n",
      "|   SDL2|       108|  2|  0|  0|\n",
      "+-------+----------+---+---+---+\n",
      "only showing top 5 rows\n",
      "\n"
     ]
    }
   ],
   "source": [
    "df.filter((df.Jan>1) & (df.Feb<1)).show(5)"
   ]
  },
  {
   "cell_type": "markdown",
   "id": "16cb572d-bb6f-4f6b-9bf6-055d241dc2e9",
   "metadata": {},
   "source": [
    "# Order By"
   ]
  },
  {
   "cell_type": "code",
   "execution_count": 85,
   "id": "92f68156-7aba-4a8f-921f-cdca29123abf",
   "metadata": {},
   "outputs": [
    {
     "name": "stdout",
     "output_type": "stream",
     "text": [
      "+-------+----------+---+---+---+\n",
      "|Line_No|SHUTTLE_NO|Jan|Feb|Mar|\n",
      "+-------+----------+---+---+---+\n",
      "|   SDL4|       125|  4|  0|  0|\n",
      "|   SDL2|        84|  3|  0|  0|\n",
      "|   SDL4|       123|  3|  0|  1|\n",
      "|   SDL2|        32|  3|  0|  1|\n",
      "|   SDL1|        62|  3|  0|  2|\n",
      "+-------+----------+---+---+---+\n",
      "only showing top 5 rows\n",
      "\n"
     ]
    }
   ],
   "source": [
    "df.orderBy(df.Jan.desc()).show(5)"
   ]
  },
  {
   "cell_type": "markdown",
   "id": "dfeb5db0-2ba7-4971-9b36-bc5f78ba6d03",
   "metadata": {},
   "source": [
    "# Joins"
   ]
  },
  {
   "cell_type": "raw",
   "id": "3e3db84f-3587-4b5b-ba7b-31fdaf5c1640",
   "metadata": {},
   "source": [
    "# df + >(left Join)< + df1  on \"id\"\n",
    "df.join(df1, \"id\", \"left\")\n",
    "\n",
    "\n",
    "# df +(left)+ df1d\n",
    "df.join(df1, df.id == df1.personal_id, 'left')\n",
    "\n",
    "\n",
    "# match on multiple column \n",
    "df.join(df1, [\"colA\", \"colB\"], 'left')"
   ]
  },
  {
   "cell_type": "markdown",
   "id": "522ce090-5529-4a35-acb8-ab29b18e4667",
   "metadata": {},
   "source": [
    "# Column Operations"
   ]
  },
  {
   "cell_type": "code",
   "execution_count": 86,
   "id": "6fe8fc5a-2621-4289-b15f-3376d4c12b19",
   "metadata": {},
   "outputs": [
    {
     "name": "stdout",
     "output_type": "stream",
     "text": [
      "+-------+----------+---+---+---+\n",
      "|Line_No|SHUTTLE_NO|Jan|Feb|Mar|\n",
      "+-------+----------+---+---+---+\n",
      "|   SDL3|         3|  1|  0|  0|\n",
      "|   SDL2|        26|  0|  0|  0|\n",
      "|   SDL2|        27|  0|  0|  1|\n",
      "|   SDL3|        28|  0|  0|  1|\n",
      "|   SDL1|        29|  1|  0|  0|\n",
      "+-------+----------+---+---+---+\n",
      "only showing top 5 rows\n",
      "\n"
     ]
    }
   ],
   "source": [
    "df.show(5)"
   ]
  },
  {
   "cell_type": "code",
   "execution_count": 87,
   "id": "b7041d3d-9b0b-47ec-913a-d9d5e06aaea2",
   "metadata": {},
   "outputs": [
    {
     "name": "stdout",
     "output_type": "stream",
     "text": [
      "+-------+----------+---+---+---+-----+\n",
      "|Line_No|SHUTTLE_NO|Jan|Feb|Mar|April|\n",
      "+-------+----------+---+---+---+-----+\n",
      "|   SDL3|         3|  1|  0|  0| Pass|\n",
      "|   SDL2|        26|  0|  0|  0| Pass|\n",
      "|   SDL2|        27|  0|  0|  1| Pass|\n",
      "|   SDL3|        28|  0|  0|  1| Pass|\n",
      "|   SDL1|        29|  1|  0|  0| Pass|\n",
      "+-------+----------+---+---+---+-----+\n",
      "only showing top 5 rows\n",
      "\n"
     ]
    }
   ],
   "source": [
    "# Add a new Static Columns\n",
    "df.withColumn(\"April\", F.lit(\"Pass\")).show(5)"
   ]
  },
  {
   "cell_type": "code",
   "execution_count": 88,
   "id": "1814c701-1c7b-41d5-bf6a-1b840020d92f",
   "metadata": {},
   "outputs": [
    {
     "name": "stdout",
     "output_type": "stream",
     "text": [
      "+-------+----------+---+---+---+---+\n",
      "|Line_No|SHUTTLE_NO|Jan|Feb|Mar|Apr|\n",
      "+-------+----------+---+---+---+---+\n",
      "|   SDL3|         3|  1|  0|  0|  1|\n",
      "|   SDL2|        26|  0|  0|  0|  0|\n",
      "|   SDL2|        27|  0|  0|  1|  0|\n",
      "|   SDL3|        28|  0|  0|  1|  0|\n",
      "+-------+----------+---+---+---+---+\n",
      "only showing top 4 rows\n",
      "\n"
     ]
    }
   ],
   "source": [
    "# Add a new column 'Sum' which is the sum of 'Jan' and 'Feb'\n",
    "df.withColumn(\"Apr\", F.col(\"Jan\") + F.col(\"Feb\")).show(4)"
   ]
  },
  {
   "cell_type": "code",
   "execution_count": 89,
   "id": "ebefda9b-5696-400a-b3b4-f7f7d92c3ad7",
   "metadata": {},
   "outputs": [
    {
     "name": "stdout",
     "output_type": "stream",
     "text": [
      "+-------+----------+---+---+---+-----+\n",
      "|Line_No|SHUTTLE_NO|Jan|Feb|Mar|April|\n",
      "+-------+----------+---+---+---+-----+\n",
      "|   SDL3|         3|  1|  0|  0|    1|\n",
      "|   SDL2|        26|  0|  0|  0|    0|\n",
      "|   SDL2|        27|  0|  0|  1|    0|\n",
      "|   SDL3|        28|  0|  0|  1|    0|\n",
      "|   SDL1|        29|  1|  0|  0|    1|\n",
      "+-------+----------+---+---+---+-----+\n",
      "only showing top 5 rows\n",
      "\n"
     ]
    }
   ],
   "source": [
    "# Create the new column 'Month' based on the condition\n",
    "df.withColumn(\n",
    "    \"April\", \n",
    "    F.when(\n",
    "        (F.col(\"Jan\").isNotNull()) & (F.col(\"Feb\").isNotNull()),\n",
    "        F.concat((F.col(\"Jan\") + F.col(\"Feb\")).cast(StringType()))\n",
    "    ).otherwise(F.lit(\"Null\"))\n",
    ").show(5)"
   ]
  },
  {
   "cell_type": "code",
   "execution_count": 90,
   "id": "1f8a0f08-7f1f-482c-bba3-e5038103a664",
   "metadata": {},
   "outputs": [
    {
     "name": "stdout",
     "output_type": "stream",
     "text": [
      "+-------+----------+---+---+---+---+\n",
      "|Line_No|SHUTTLE_NO|Jan|Feb|Mar|Apr|\n",
      "+-------+----------+---+---+---+---+\n",
      "|   SDL3|         3|  1|  0|  0|  3|\n",
      "|   SDL2|        26|  0|  0|  0|  2|\n",
      "|   SDL2|        27|  0|  0|  1|  2|\n",
      "+-------+----------+---+---+---+---+\n",
      "only showing top 3 rows\n",
      "\n"
     ]
    }
   ],
   "source": [
    "df.withColumn(\n",
    "    \"Apr\",\n",
    "    F.when(\n",
    "        (F.col('Jan').isNotNull()) & (F.col('Feb').isNotNull()),\n",
    "         F.col(\"jan\")+2\n",
    "    ).otherwise(F.lit(\"Null\"))\n",
    ").show(3)"
   ]
  },
  {
   "cell_type": "code",
   "execution_count": 91,
   "id": "d9ef0dde-19a0-4692-88d7-4d4c6f7d2068",
   "metadata": {},
   "outputs": [
    {
     "name": "stdout",
     "output_type": "stream",
     "text": [
      "+-------+----------+---+---+---+---+\n",
      "|Line_No|SHUTTLE_NO|Jan|Feb|Mar|Apr|\n",
      "+-------+----------+---+---+---+---+\n",
      "|   SDL3|         3|  1|  0|  0| 21|\n",
      "|   SDL2|        26|  0|  0|  0| 20|\n",
      "|   SDL2|        27|  0|  0|  1| 20|\n",
      "|   SDL3|        28|  0|  0|  1| 20|\n",
      "|   SDL1|        29|  1|  0|  0| 21|\n",
      "+-------+----------+---+---+---+---+\n",
      "only showing top 5 rows\n",
      "\n"
     ]
    }
   ],
   "source": [
    "# adding Column simply\n",
    "df.withColumn(\"Apr\", F.col(\"Jan\")+20).show(5)"
   ]
  },
  {
   "cell_type": "code",
   "execution_count": 92,
   "id": "bf34249d-559f-4e14-801f-47249a5f5558",
   "metadata": {},
   "outputs": [
    {
     "name": "stdout",
     "output_type": "stream",
     "text": [
      "+---+\n",
      "|Apr|\n",
      "+---+\n",
      "| 11|\n",
      "| 10|\n",
      "| 10|\n",
      "| 10|\n",
      "| 11|\n",
      "+---+\n",
      "only showing top 5 rows\n",
      "\n"
     ]
    }
   ],
   "source": [
    "# Print Single Column \n",
    "df.withColumn(\"Apr\", F.col(\"Jan\")+10).select(\"Apr\").show(5)"
   ]
  },
  {
   "cell_type": "code",
   "execution_count": 93,
   "id": "d9d670d6-51d5-4937-8601-36635a182b64",
   "metadata": {},
   "outputs": [
    {
     "name": "stdout",
     "output_type": "stream",
     "text": [
      "+-------+----------+---+\n",
      "|Line_No|SHUTTLE_NO|Jan|\n",
      "+-------+----------+---+\n",
      "|   SDL3|         3|  1|\n",
      "|   SDL2|        26|  0|\n",
      "|   SDL2|        27|  0|\n",
      "|   SDL3|        28|  0|\n",
      "|   SDL1|        29|  1|\n",
      "+-------+----------+---+\n",
      "only showing top 5 rows\n",
      "\n"
     ]
    }
   ],
   "source": [
    "# Drop Column \n",
    "df.drop(\"Feb\", \"Mar\").show(5)"
   ]
  },
  {
   "cell_type": "code",
   "execution_count": 94,
   "id": "be33bc27-5eb5-4db4-8f03-86551ba602da",
   "metadata": {},
   "outputs": [
    {
     "name": "stdout",
     "output_type": "stream",
     "text": [
      "+---+---+---+\n",
      "|Jan|Feb|No.|\n",
      "+---+---+---+\n",
      "|  1|  0|  3|\n",
      "|  0|  0| 26|\n",
      "|  0|  0| 27|\n",
      "|  0|  0| 28|\n",
      "|  1|  0| 29|\n",
      "+---+---+---+\n",
      "only showing top 5 rows\n",
      "\n"
     ]
    }
   ],
   "source": [
    "# Pick column with alias.\n",
    "df.select(\"Jan\", \n",
    "          \"Feb\", \n",
    "          F.col('SHUTTLE_NO').alias(\"No.\")\n",
    ").show(5)"
   ]
  },
  {
   "cell_type": "code",
   "execution_count": 95,
   "id": "d09c5675-ad9a-44c1-a9c6-c2bf2c81cfbe",
   "metadata": {},
   "outputs": [
    {
     "name": "stdout",
     "output_type": "stream",
     "text": [
      "+-------+----+---+---+---+\n",
      "|Line_No|s_No|Jan|Feb|Mar|\n",
      "+-------+----+---+---+---+\n",
      "|   SDL3|   3|  1|  0|  0|\n",
      "|   SDL2|  26|  0|  0|  0|\n",
      "|   SDL2|  27|  0|  0|  1|\n",
      "|   SDL3|  28|  0|  0|  1|\n",
      "|   SDL1|  29|  1|  0|  0|\n",
      "+-------+----+---+---+---+\n",
      "only showing top 5 rows\n",
      "\n"
     ]
    }
   ],
   "source": [
    "# Renaming Column\n",
    "df.withColumnRenamed('SHUTTLE_NO', 's_No').show(5)"
   ]
  },
  {
   "cell_type": "raw",
   "id": "3f14732f-9bc7-40bc-beda-d20f9717e713",
   "metadata": {},
   "source": [
    "# Keep all the columns which also occur in another Dataset.\n",
    "df.[[cols for cols in df2.columns]]   # Python\n",
    "df.select(*(F.col(c) for c in df2.columns))   # pyspark"
   ]
  },
  {
   "cell_type": "code",
   "execution_count": 96,
   "id": "1014b58e-dc65-4cd1-82ae-18255e927037",
   "metadata": {},
   "outputs": [
    {
     "name": "stdout",
     "output_type": "stream",
     "text": [
      "+-------+----------+---+---+---+\n",
      "|line_no|shuttle_no|jan|feb|mar|\n",
      "+-------+----------+---+---+---+\n",
      "|   SDL3|         3|  1|  0|  0|\n",
      "|   SDL2|        26|  0|  0|  0|\n",
      "|   SDL2|        27|  0|  0|  1|\n",
      "|   SDL3|        28|  0|  0|  1|\n",
      "|   SDL1|        29|  1|  0|  0|\n",
      "+-------+----------+---+---+---+\n",
      "only showing top 5 rows\n",
      "\n"
     ]
    }
   ],
   "source": [
    "# Batch Rename/ Cleaning column \n",
    "for col in df.columns:\n",
    "    df = df.withColumnRenamed(col, col.lower().replace(\" \", \"_\").replace(\"-\", \"_\"))\n",
    "df.show(5)"
   ]
  },
  {
   "cell_type": "markdown",
   "id": "71525f94-f93c-4b0d-b9c4-69ad67d43e8e",
   "metadata": {},
   "source": [
    "# Null Values and Duplicates"
   ]
  },
  {
   "cell_type": "code",
   "execution_count": 97,
   "id": "17f014e3-af05-448c-b4c4-f14ab26a7037",
   "metadata": {},
   "outputs": [
    {
     "name": "stdout",
     "output_type": "stream",
     "text": [
      "+-------+----------+---+---+---+\n",
      "|line_no|shuttle_no|jan|feb|mar|\n",
      "+-------+----------+---+---+---+\n",
      "|   SDL3|         3|  1|  0|  0|\n",
      "|   SDL2|        26|  0|  0|  0|\n",
      "|   SDL2|        27|  0|  0|  1|\n",
      "|   SDL3|        28|  0|  0|  1|\n",
      "|   SDL1|        29|  1|  0|  0|\n",
      "|   SDL3|        30|  1|  0|  0|\n",
      "|   SDL2|        31|  0|  0|  0|\n",
      "|   SDL2|        32|  3|  0|  1|\n",
      "|   SDL3|        33|  0|  1|  0|\n",
      "|   SDL3|        34|  0|  0|  0|\n",
      "|   SDL4|        35|  1|  0|  1|\n",
      "|   SDL3|        36|  0|  1|  0|\n",
      "|   SDL1|        37|  0|  0|  0|\n",
      "|   SDL1|        38|  0|  0|  0|\n",
      "|   SDL3|        39|  0|  0|  0|\n",
      "|   SDL1|        40|  0|  0|  0|\n",
      "|   SDL3|        41|  0|  0|  0|\n",
      "|   SDL3|        42|  0|  0|  1|\n",
      "|   SDL4|        43|  0|  0|  1|\n",
      "|   SDL3|        44|  0|  0|  0|\n",
      "+-------+----------+---+---+---+\n",
      "only showing top 20 rows\n",
      "\n"
     ]
    }
   ],
   "source": [
    "df.show()"
   ]
  },
  {
   "cell_type": "code",
   "execution_count": 98,
   "id": "12c8fc7e-713f-46af-8528-b0592e88eb97",
   "metadata": {},
   "outputs": [
    {
     "name": "stdout",
     "output_type": "stream",
     "text": [
      "+-------+----------+---+---+---+\n",
      "|line_no|shuttle_no|Jan|feb|mar|\n",
      "+-------+----------+---+---+---+\n",
      "|   SDL3|         3|1.0|  0|  0|\n",
      "|   SDL2|        26|0.0|  0|  0|\n",
      "|   SDL2|        27|0.0|  0|  1|\n",
      "|   SDL3|        28|0.0|  0|  1|\n",
      "|   SDL1|        29|1.0|  0|  0|\n",
      "+-------+----------+---+---+---+\n",
      "only showing top 5 rows\n",
      "\n"
     ]
    }
   ],
   "source": [
    "# Cast a column to different dtype\n",
    "df.withColumn(\"Jan\", df.jan.cast(T.FloatType())).show(5)"
   ]
  },
  {
   "cell_type": "code",
   "execution_count": 99,
   "id": "e6a0463b-f687-484e-8478-daf316053aee",
   "metadata": {},
   "outputs": [
    {
     "name": "stdout",
     "output_type": "stream",
     "text": [
      "+-------+----------+---+---+---+\n",
      "|line_no|shuttle_no|jan|feb|mar|\n",
      "+-------+----------+---+---+---+\n",
      "|   SDL3|         3|  1|  0|  0|\n",
      "|   SDL2|        26|  0|  0|  0|\n",
      "|   SDL2|        27|  0|  0|  1|\n",
      "|   SDL3|        28|  0|  0|  1|\n",
      "|   SDL1|        29|  1|  0|  0|\n",
      "+-------+----------+---+---+---+\n",
      "only showing top 5 rows\n",
      "\n"
     ]
    }
   ],
   "source": [
    "# Replace all Nulls with a specific values\n",
    "df.fillna({\n",
    "    'jan': 11,\n",
    "    'Feb': 12\n",
    "}).show(5)"
   ]
  },
  {
   "cell_type": "code",
   "execution_count": 100,
   "id": "0584f30c-ee3b-4bb5-a0e1-ade94c73c5bb",
   "metadata": {},
   "outputs": [
    {
     "name": "stdout",
     "output_type": "stream",
     "text": [
      "+-------+----------+---+---+---+\n",
      "|line_no|shuttle_no|jan|feb|mar|\n",
      "+-------+----------+---+---+---+\n",
      "|   SDL3|         3|  1|  0|  0|\n",
      "|   SDL2|        26|  0|  0|  0|\n",
      "|   SDL2|        27|  0|  0|  1|\n",
      "|   SDL3|        28|  0|  0|  1|\n",
      "|   SDL1|        29|  1|  0|  0|\n",
      "+-------+----------+---+---+---+\n",
      "only showing top 5 rows\n",
      "\n"
     ]
    }
   ],
   "source": [
    "# Take the first value that is not null\n",
    "df.withColumn(\"jan\", F.coalesce(df.jan, df.feb, F.lit(\"N/A\"))).show(5)"
   ]
  },
  {
   "cell_type": "code",
   "execution_count": 101,
   "id": "f85cb46e-ee7e-4522-8559-6899e087a18c",
   "metadata": {},
   "outputs": [
    {
     "name": "stdout",
     "output_type": "stream",
     "text": [
      "+-------+----------+---+---+---+\n",
      "|line_no|shuttle_no|jan|feb|mar|\n",
      "+-------+----------+---+---+---+\n",
      "|   SDL2|        26|  0|  0|  0|\n",
      "|   SDL2|        27|  0|  0|  1|\n",
      "|   SDL4|        66|  0|  0|  2|\n",
      "|   SDL4|        90|  0|  0|  3|\n",
      "|   SDL3|        33|  0|  1|  0|\n",
      "|   SDL3|        80|  0|  1|  1|\n",
      "|   SDL3|       453|  0|  2|  0|\n",
      "|   SDL3|         3|  1|  0|  0|\n",
      "|   SDL4|        35|  1|  0|  1|\n",
      "|   SDL4|       139|  1|  0|  2|\n",
      "|   SDL3|       137|  1|  1|  0|\n",
      "|   SDL1|        98|  1|  1|  1|\n",
      "|   SDL3|        77|  1|  1|  2|\n",
      "|   SDL2|        95|  2|  0|  0|\n",
      "|   SDL2|       151|  2|  0|  1|\n",
      "|   SDL1|       110|  2|  0|  2|\n",
      "|   SDL1|       115|  2|  1|  2|\n",
      "|   SDL2|        84|  3|  0|  0|\n",
      "|   SDL2|        32|  3|  0|  1|\n",
      "|   SDL1|        62|  3|  0|  2|\n",
      "|   SDL1|       144|  3|  0|  3|\n",
      "|   SDL4|       125|  4|  0|  0|\n",
      "+-------+----------+---+---+---+\n",
      "\n"
     ]
    }
   ],
   "source": [
    "# Drop Duplicate rows, considering specific column\n",
    "df.drop_duplicates(['jan', 'feb', 'mar']).show(100)"
   ]
  },
  {
   "cell_type": "code",
   "execution_count": 102,
   "id": "6cc9a1b2-75f6-48c9-9305-1b1790c039ab",
   "metadata": {},
   "outputs": [
    {
     "name": "stdout",
     "output_type": "stream",
     "text": [
      "+-------+----------+---+---+---+\n",
      "|line_no|shuttle_no|jan|feb|mar|\n",
      "+-------+----------+---+---+---+\n",
      "|   SDL2|        99|  0|  0|  0|\n",
      "|   SDL3|        44|  0|  0|  0|\n",
      "|   SDL3|       127|  0|  0|  0|\n",
      "|   SDL3|        33|  0|  1|  0|\n",
      "|   SDL3|        41|  0|  0|  0|\n",
      "+-------+----------+---+---+---+\n",
      "only showing top 5 rows\n",
      "\n",
      "+-------+----------+---+---+---+\n",
      "|line_no|shuttle_no|jan|feb|mar|\n",
      "+-------+----------+---+---+---+\n",
      "|   SDL2|        99|  0|  0|  0|\n",
      "|   SDL3|        44|  0|  0|  0|\n",
      "|   SDL3|       127|  0|  0|  0|\n",
      "|   SDL3|        33|  0|  1|  0|\n",
      "|   SDL3|        41|  0|  0|  0|\n",
      "+-------+----------+---+---+---+\n",
      "only showing top 5 rows\n",
      "\n"
     ]
    }
   ],
   "source": [
    "# Remove duplicate rows from the entire DataFrame, based on all columns\n",
    "df.drop_duplicates().show(5)\n",
    "df.distinct().show(5)"
   ]
  },
  {
   "cell_type": "code",
   "execution_count": 103,
   "id": "5ce74adb-aed8-4c22-9e5d-bb3ab8ad191f",
   "metadata": {},
   "outputs": [
    {
     "name": "stdout",
     "output_type": "stream",
     "text": [
      "+-------+----------+---+---+---+\n",
      "|line_no|shuttle_no|jan|feb|mar|\n",
      "+-------+----------+---+---+---+\n",
      "|   SDL3|         3|  1|  0|  0|\n",
      "|   SDL2|        26|  0|  0|  0|\n",
      "|   SDL2|        27|  0|  0|  1|\n",
      "|   SDL3|        28|  0|  0|  1|\n",
      "|   SDL1|        29|  1|  0|  0|\n",
      "+-------+----------+---+---+---+\n",
      "only showing top 5 rows\n",
      "\n"
     ]
    }
   ],
   "source": [
    "# Replace empty strint with Null/None\n",
    "df.replace({\"\":None}, subset=['jan']).show(5)"
   ]
  },
  {
   "cell_type": "code",
   "execution_count": 104,
   "id": "1c44b5d3-d9d3-42eb-ab34-224e54e2918a",
   "metadata": {},
   "outputs": [
    {
     "name": "stdout",
     "output_type": "stream",
     "text": [
      "+-------+----------+---+---+---+\n",
      "|line_no|shuttle_no|jan|feb|mar|\n",
      "+-------+----------+---+---+---+\n",
      "|   SDL3|         3|  1|  0|  0|\n",
      "|   SDL2|        26|  0|  0|  0|\n",
      "|   SDL2|        27|  0|  0|  1|\n",
      "|   SDL3|        28|  0|  0|  1|\n",
      "|   SDL1|        29|  1|  0|  0|\n",
      "+-------+----------+---+---+---+\n",
      "only showing top 5 rows\n",
      "\n"
     ]
    }
   ],
   "source": [
    "df.replace(float('nan'), None).show(5)"
   ]
  },
  {
   "cell_type": "markdown",
   "id": "54d6ae0f-d3ed-49e6-acf1-9da26315bbfd",
   "metadata": {},
   "source": [
    "# String Operations"
   ]
  },
  {
   "cell_type": "code",
   "execution_count": 105,
   "id": "1f19abe4-8fcf-4b67-b97f-aad9dabe6d8b",
   "metadata": {},
   "outputs": [
    {
     "name": "stdout",
     "output_type": "stream",
     "text": [
      "+-------+----------+---+---+---+\n",
      "|line_no|shuttle_no|jan|feb|mar|\n",
      "+-------+----------+---+---+---+\n",
      "+-------+----------+---+---+---+\n",
      "\n"
     ]
    }
   ],
   "source": [
    "# String columns\n",
    "df.filter(df.line_no.contains('o')).show()"
   ]
  },
  {
   "cell_type": "code",
   "execution_count": 106,
   "id": "8da1d1a8-bf58-4c0f-91f1-43c4e302504b",
   "metadata": {},
   "outputs": [
    {
     "name": "stdout",
     "output_type": "stream",
     "text": [
      "+-------+----------+---+---+---+\n",
      "|line_no|shuttle_no|jan|feb|mar|\n",
      "+-------+----------+---+---+---+\n",
      "|   SDL1|        40|  0|  0|  0|\n",
      "|   SDL3|        41|  0|  0|  0|\n",
      "|   SDL3|        42|  0|  0|  1|\n",
      "|   SDL4|        43|  0|  0|  1|\n",
      "|   SDL3|        44|  0|  0|  0|\n",
      "|   SDL2|        45|  0|  0|  0|\n",
      "|   NULL|        46|  0|  0|  0|\n",
      "|   SDL1|        47|  0|  0|  0|\n",
      "|   SDL3|        48|  0|  0|  0|\n",
      "|   SDL2|        49|  0|  0|  0|\n",
      "|   SDL4|       450|  0|  1|  0|\n",
      "|   SDL2|       451|  1|  1|  0|\n",
      "|   SDL3|       453|  0|  2|  0|\n",
      "+-------+----------+---+---+---+\n",
      "\n"
     ]
    }
   ],
   "source": [
    "# Startwith 4\n",
    "df.filter(df.shuttle_no.startswith('4')).show()"
   ]
  },
  {
   "cell_type": "code",
   "execution_count": 107,
   "id": "936ae786-cdba-4c60-9eb2-d7776732a8e0",
   "metadata": {},
   "outputs": [
    {
     "name": "stdout",
     "output_type": "stream",
     "text": [
      "+-------+----------+---+---+---+\n",
      "|line_no|shuttle_no|jan|feb|mar|\n",
      "+-------+----------+---+---+---+\n",
      "|   NULL|        46|  0|  0|  0|\n",
      "|   NULL|        88|  0|  0|  0|\n",
      "+-------+----------+---+---+---+\n",
      "\n"
     ]
    }
   ],
   "source": [
    "df.filter(df.line_no.isNull()).show()"
   ]
  },
  {
   "cell_type": "code",
   "execution_count": 108,
   "id": "ce6e5606-43d5-4551-af1f-f9b54c848177",
   "metadata": {},
   "outputs": [
    {
     "name": "stdout",
     "output_type": "stream",
     "text": [
      "+-------+----------+---+---+---+\n",
      "|line_no|shuttle_no|jan|feb|mar|\n",
      "+-------+----------+---+---+---+\n",
      "|   SDL2|        45|  0|  0|  0|\n",
      "|   SDL3|       145|  0|  0|  0|\n",
      "|   SDL4|       450|  0|  1|  0|\n",
      "|   SDL2|       451|  1|  1|  0|\n",
      "|   SDL3|       453|  0|  2|  0|\n",
      "+-------+----------+---+---+---+\n",
      "\n",
      "+-------+----------+---+---+---+\n",
      "|line_no|shuttle_no|jan|feb|mar|\n",
      "+-------+----------+---+---+---+\n",
      "|   SDL2|        45|  0|  0|  0|\n",
      "|   SDL3|       145|  0|  0|  0|\n",
      "+-------+----------+---+---+---+\n",
      "\n",
      "+-------+----------+---+---+---+\n",
      "|line_no|shuttle_no|jan|feb|mar|\n",
      "+-------+----------+---+---+---+\n",
      "|   SDL2|        45|  0|  0|  0|\n",
      "|   SDL4|       450|  0|  1|  0|\n",
      "|   SDL2|       451|  1|  1|  0|\n",
      "|   SDL3|       453|  0|  2|  0|\n",
      "+-------+----------+---+---+---+\n",
      "\n"
     ]
    }
   ],
   "source": [
    "# Have 45 at in between\n",
    "df.filter(df.shuttle_no.like('%45%')).show()\n",
    "\n",
    "# have 45 at end\n",
    "df.filter(df.shuttle_no.like('%45')).show()\n",
    "\n",
    "# Contain 45 at starting\n",
    "df.filter(df.shuttle_no.like('45%')).show()"
   ]
  },
  {
   "cell_type": "code",
   "execution_count": 117,
   "id": "5742015f-cd17-4c81-b2d5-3c7741fef65b",
   "metadata": {},
   "outputs": [
    {
     "name": "stdout",
     "output_type": "stream",
     "text": [
      "+-------+----------+---+---+---+\n",
      "|line_no|shuttle_no|jan|feb|mar|\n",
      "+-------+----------+---+---+---+\n",
      "+-------+----------+---+---+---+\n",
      "\n"
     ]
    }
   ],
   "source": [
    "# column ends with \"ice\" and may optionally have uppercase letters before \"ice\" \n",
    "# (e.g., \"NICE\", \"AICE\", \"ice\")\n",
    "df.filter(df.line_no.rlike('[A-Z]*ice$')).show()"
   ]
  },
  {
   "cell_type": "code",
   "execution_count": 109,
   "id": "913fed1c-582a-4633-8442-154d12132c72",
   "metadata": {},
   "outputs": [
    {
     "name": "stdout",
     "output_type": "stream",
     "text": [
      "+-------+----------+---+---+---+\n",
      "|line_no|shuttle_no|jan|feb|mar|\n",
      "+-------+----------+---+---+---+\n",
      "|   SDL4|        35|  1|  0|  1|\n",
      "|   SDL4|        43|  0|  0|  1|\n",
      "|   SDL4|        50|  1|  0|  0|\n",
      "|   SDL4|        53|  1|  0|  0|\n",
      "|   SDL4|        54|  0|  0|  0|\n",
      "+-------+----------+---+---+---+\n",
      "only showing top 5 rows\n",
      "\n"
     ]
    }
   ],
   "source": [
    "# onlu SDL4 records\n",
    "df.filter(df.line_no.isin('SDL4')).show(5)"
   ]
  },
  {
   "cell_type": "markdown",
   "id": "b67802d0-490e-405f-8dce-23f0359863b6",
   "metadata": {},
   "source": [
    "# String Fundtions"
   ]
  },
  {
   "cell_type": "code",
   "execution_count": 124,
   "id": "7155396f-e365-495e-ac07-a7a94819bb49",
   "metadata": {},
   "outputs": [
    {
     "name": "stdout",
     "output_type": "stream",
     "text": [
      "+-------+----------+---+---+---+-----------------+\n",
      "|line_no|shuttle_no|jan|feb|mar|shuttle_no_substr|\n",
      "+-------+----------+---+---+---+-----------------+\n",
      "|   SDL3|         3|  1|  0|  0|                3|\n",
      "|   SDL2|        26|  0|  0|  0|                2|\n",
      "|   SDL2|        27|  0|  0|  1|                2|\n",
      "|   SDL3|        28|  0|  0|  1|                2|\n",
      "|   SDL1|        29|  1|  0|  0|                2|\n",
      "+-------+----------+---+---+---+-----------------+\n",
      "only showing top 5 rows\n",
      "\n"
     ]
    }
   ],
   "source": [
    "# extracts a substring starting from the first character (index 0) to 1 index.\n",
    "df.withColumn('shuttle_no_substr', df.shuttle_no.substr(0, 1)).show(5)"
   ]
  },
  {
   "cell_type": "code",
   "execution_count": 130,
   "id": "1a749def-8e4b-4391-a9c3-66feed780d70",
   "metadata": {},
   "outputs": [
    {
     "name": "stdout",
     "output_type": "stream",
     "text": [
      "+-------+----------+---+---+---+------------+\n",
      "|line_no|shuttle_no|jan|feb|mar|line_no_trim|\n",
      "+-------+----------+---+---+---+------------+\n",
      "|   SDL3|         3|  1|  0|  0|        SDL3|\n",
      "|   SDL2|        26|  0|  0|  0|        SDL2|\n",
      "|   SDL2|        27|  0|  0|  1|        SDL2|\n",
      "|   SDL3|        28|  0|  0|  1|        SDL3|\n",
      "|   SDL1|        29|  1|  0|  0|        SDL1|\n",
      "+-------+----------+---+---+---+------------+\n",
      "only showing top 5 rows\n",
      "\n"
     ]
    }
   ],
   "source": [
    "# removes leading and trailing spaces\n",
    "df.withColumn('line_no_trim', F.trim(df.line_no)).show(5)"
   ]
  },
  {
   "cell_type": "code",
   "execution_count": 134,
   "id": "461fed3b-dbb5-4861-b261-044ae9b1d06f",
   "metadata": {},
   "outputs": [
    {
     "name": "stdout",
     "output_type": "stream",
     "text": [
      "+-------+----------+---+---+---+---------------------+\n",
      "|line_no|shuttle_no|jan|feb|mar|shuttle_no_left_pad_0|\n",
      "+-------+----------+---+---+---+---------------------+\n",
      "|   SDL3|         3|  1|  0|  0|                  003|\n",
      "|   SDL2|        26|  0|  0|  0|                  026|\n",
      "|   SDL2|        27|  0|  0|  1|                  027|\n",
      "|   SDL3|        28|  0|  0|  1|                  028|\n",
      "|   SDL1|        29|  1|  0|  0|                  029|\n",
      "+-------+----------+---+---+---+---------------------+\n",
      "only showing top 5 rows\n",
      "\n"
     ]
    }
   ],
   "source": [
    "# pads the left side of a string with a specified character (0) \n",
    "# until the string reaches a certain length (3).\n",
    "df.withColumn('shuttle_no_left_pad_0', F.lpad('shuttle_no', 3, '0')).show(5)"
   ]
  },
  {
   "cell_type": "code",
   "execution_count": 135,
   "id": "fc7a19c6-86e4-40cb-ab36-ca82889a2960",
   "metadata": {},
   "outputs": [
    {
     "name": "stdout",
     "output_type": "stream",
     "text": [
      "+-------+----------+---+---+---+----------------------+\n",
      "|line_no|shuttle_no|jan|feb|mar|shuttle_no_right_pad_0|\n",
      "+-------+----------+---+---+---+----------------------+\n",
      "|   SDL3|         3|  1|  0|  0|                   300|\n",
      "|   SDL2|        26|  0|  0|  0|                   260|\n",
      "|   SDL2|        27|  0|  0|  1|                   270|\n",
      "|   SDL3|        28|  0|  0|  1|                   280|\n",
      "|   SDL1|        29|  1|  0|  0|                   290|\n",
      "+-------+----------+---+---+---+----------------------+\n",
      "only showing top 5 rows\n",
      "\n"
     ]
    }
   ],
   "source": [
    "df.withColumn('shuttle_no_right_pad_0', F.rpad('shuttle_no', 3, '0')).show(5)"
   ]
  },
  {
   "cell_type": "code",
   "execution_count": 141,
   "id": "ee429d7f-0aaf-4e18-bc20-99f2a49d50a5",
   "metadata": {},
   "outputs": [
    {
     "name": "stdout",
     "output_type": "stream",
     "text": [
      "+-------+----------+---+---+---+-----------------+\n",
      "|line_no|shuttle_no|jan|feb|mar|line_no_lead_trim|\n",
      "+-------+----------+---+---+---+-----------------+\n",
      "|   SDL3|         3|  1|  0|  0|             SDL3|\n",
      "|   SDL2|        26|  0|  0|  0|             SDL2|\n",
      "|   SDL2|        27|  0|  0|  1|             SDL2|\n",
      "|   SDL3|        28|  0|  0|  1|             SDL3|\n",
      "|   SDL1|        29|  1|  0|  0|             SDL1|\n",
      "+-------+----------+---+---+---+-----------------+\n",
      "only showing top 5 rows\n",
      "\n",
      "+-------+----------+---+---+---+------------------+\n",
      "|line_no|shuttle_no|jan|feb|mar|line_no_trail_trim|\n",
      "+-------+----------+---+---+---+------------------+\n",
      "|   SDL3|         3|  1|  0|  0|              SDL3|\n",
      "|   SDL2|        26|  0|  0|  0|              SDL2|\n",
      "|   SDL2|        27|  0|  0|  1|              SDL2|\n",
      "|   SDL3|        28|  0|  0|  1|              SDL3|\n",
      "|   SDL1|        29|  1|  0|  0|              SDL1|\n",
      "+-------+----------+---+---+---+------------------+\n",
      "only showing top 5 rows\n",
      "\n"
     ]
    }
   ],
   "source": [
    "# trims (removes) leading spaces\n",
    "df.withColumn('line_no_lead_trim', F.ltrim('line_no')).show(5)\n",
    "\n",
    "# trims (removes) trailing spaces\n",
    "df.withColumn('line_no_trail_trim', F.rtrim('line_no')).show(5)"
   ]
  },
  {
   "cell_type": "code",
   "execution_count": 160,
   "id": "d663b247-9e1c-4d99-803e-d4954011cefa",
   "metadata": {},
   "outputs": [
    {
     "name": "stdout",
     "output_type": "stream",
     "text": [
      "+-------+----------+---+---+---+--------------+\n",
      "|line_no|shuttle_no|jan|feb|mar|line-suttle_no|\n",
      "+-------+----------+---+---+---+--------------+\n",
      "|   SDL3|         3|  1|  0|  0|        SDL3-3|\n",
      "|   SDL2|        26|  0|  0|  0|       SDL2-26|\n",
      "|   SDL2|        27|  0|  0|  1|       SDL2-27|\n",
      "|   SDL3|        28|  0|  0|  1|       SDL3-28|\n",
      "|   SDL1|        29|  1|  0|  0|       SDL1-29|\n",
      "+-------+----------+---+---+---+--------------+\n",
      "only showing top 5 rows\n",
      "\n"
     ]
    }
   ],
   "source": [
    "# If line_no = \"123\" and shuttle_no = None, the result would be None (because concat doesn't handle null values by skipping them).\n",
    "# it conseder \"-\", as string value.\n",
    "df.withColumn('line-suttle_no', F.concat('line_no', F.lit(\"-\"), 'shuttle_no')).show(5)"
   ]
  },
  {
   "cell_type": "markdown",
   "id": "c3fcbfda-3f67-4fc9-a9c1-56451c858bd3",
   "metadata": {},
   "source": [
    "##### OR\n"
   ]
  },
  {
   "cell_type": "code",
   "execution_count": 161,
   "id": "eaa9b953-5fae-48b3-b00d-e6bc5be93b48",
   "metadata": {},
   "outputs": [
    {
     "name": "stdout",
     "output_type": "stream",
     "text": [
      "+-------+----------+---+---+---+--------------+\n",
      "|line_no|shuttle_no|jan|feb|mar|line-suttle_no|\n",
      "+-------+----------+---+---+---+--------------+\n",
      "|   SDL3|         3|  1|  0|  0|        SDL3-3|\n",
      "|   SDL2|        26|  0|  0|  0|       SDL2-26|\n",
      "|   SDL2|        27|  0|  0|  1|       SDL2-27|\n",
      "|   SDL3|        28|  0|  0|  1|       SDL3-28|\n",
      "|   SDL1|        29|  1|  0|  0|       SDL1-29|\n",
      "+-------+----------+---+---+---+--------------+\n",
      "only showing top 5 rows\n",
      "\n"
     ]
    }
   ],
   "source": [
    "# If line_no = \"123\" and shuttle_no = None, the result would be \"123\" (no trailing hyphen).\n",
    "# and it consider \"-\", as delimeter.\n",
    "df.withColumn('line-suttle_no', F.concat_ws(\"-\", 'line_no', 'shuttle_no')).show(5)"
   ]
  },
  {
   "cell_type": "code",
   "execution_count": 175,
   "id": "0eaa6920-e9e7-4b60-add3-f10bdd78c48b",
   "metadata": {},
   "outputs": [
    {
     "name": "stdout",
     "output_type": "stream",
     "text": [
      "+-------+----------+---+---+---+-----------+\n",
      "|line_no|shuttle_no|jan|feb|mar|line_no_new|\n",
      "+-------+----------+---+---+---+-----------+\n",
      "|   SDL3|         3|  1|  0|  0|  Line_No-3|\n",
      "|   SDL2|        26|  0|  0|  0|  Line_No-2|\n",
      "|   SDL2|        27|  0|  0|  1|  Line_No-2|\n",
      "|   SDL3|        28|  0|  0|  1|  Line_No-3|\n",
      "|   SDL1|        29|  1|  0|  0|  Line_No-1|\n",
      "+-------+----------+---+---+---+-----------+\n",
      "only showing top 5 rows\n",
      "\n"
     ]
    }
   ],
   "source": [
    "# RegEx Replacement\n",
    "# Suppose the value of line_no is \"SDL12345\".\n",
    "# The regex SDL(.*) matches \"SDL\" and captures \"12345\" in the capture group $1.\n",
    "# The replacement string Line_No-$1 would produce \"Line_No-12345\".\n",
    "# If the value of line_no is \"SDL\" (with no characters following \"SDL\"):\n",
    "# The regex SDL(.*) matches \"SDL\" and captures an empty string in the capture group $1.\n",
    "# The replacement string would produce \"Line_No-\".\n",
    "# If line_no does not match the pattern 'SDL(.*)', it will remain unchanged in the new column.\n",
    "\n",
    "df.withColumn(\"line_no_new\", F.regexp_replace(\"line_no\", 'SDL(.*)', 'Line_No-$1')).show(5)"
   ]
  },
  {
   "cell_type": "code",
   "execution_count": 119,
   "id": "72781c6d-b483-4107-8853-8f28fe6f52b8",
   "metadata": {},
   "outputs": [
    {
     "name": "stdout",
     "output_type": "stream",
     "text": [
      "+-------+----------+---+---+---+----------+\n",
      "|line_no|shuttle_no|jan|feb|mar|line_no_ID|\n",
      "+-------+----------+---+---+---+----------+\n",
      "|   SDL3|         3|  1|  0|  0|         3|\n",
      "|   SDL2|        26|  0|  0|  0|         2|\n",
      "|   SDL2|        27|  0|  0|  1|         2|\n",
      "|   SDL3|        28|  0|  0|  1|         3|\n",
      "|   SDL1|        29|  1|  0|  0|         1|\n",
      "+-------+----------+---+---+---+----------+\n",
      "only showing top 5 rows\n",
      "\n"
     ]
    }
   ],
   "source": [
    "# Suppose the value of shuttle_no is \"ABC123XYZ\".\n",
    "\n",
    "# The regex [0-9]+ matches the first sequence of digits it encounters, which is \"123\".\n",
    "# The resulting value in 'shuttle_no_new' would be \"123\".\n",
    "# If the value of shuttle_no is \"ABCXYZ\" (with no digits):\n",
    "\n",
    "# The regex [0-9]+ matches zero digits.\n",
    "# The resulting value in 'shuttle_no_new' would be an empty string \"\".\n",
    "\n",
    "df.withColumn(\"line_no_ID\", F.regexp_extract(\"line_no\", '[0-9]+', 0)).show(5)"
   ]
  },
  {
   "cell_type": "markdown",
   "id": "bb13f254-e32d-4217-8210-e7c1075bf44d",
   "metadata": {},
   "source": [
    "# Number Operation "
   ]
  },
  {
   "cell_type": "code",
   "execution_count": 120,
   "id": "8fac20ec-5b08-4437-b00c-6e2b99789273",
   "metadata": {
    "scrolled": true
   },
   "outputs": [
    {
     "name": "stdout",
     "output_type": "stream",
     "text": [
      "+-------+----------+---+---+---+\n",
      "|line_no|shuttle_no|jan|feb|mar|\n",
      "+-------+----------+---+---+---+\n",
      "|   SDL3|         3|  1|  0|  0|\n",
      "|   SDL2|        26|  0|  0|  0|\n",
      "|   SDL2|        27|  0|  0|  1|\n",
      "|   SDL3|        28|  0|  0|  1|\n",
      "|   SDL1|        29|  1|  0|  0|\n",
      "+-------+----------+---+---+---+\n",
      "only showing top 5 rows\n",
      "\n",
      "+-------+----------+---+---+---+\n",
      "|line_no|shuttle_no|jan|feb|mar|\n",
      "+-------+----------+---+---+---+\n",
      "|   SDL3|         3|  1|  0|  0|\n",
      "|   SDL2|        26|  0|  0|  0|\n",
      "|   SDL2|        27|  0|  0|  1|\n",
      "|   SDL3|        28|  0|  0|  1|\n",
      "|   SDL1|        29|  1|  0|  0|\n",
      "+-------+----------+---+---+---+\n",
      "only showing top 5 rows\n",
      "\n",
      "+-------+----------+---+---+---+\n",
      "|line_no|shuttle_no|jan|feb|mar|\n",
      "+-------+----------+---+---+---+\n",
      "|   SDL3|         3|  1|  0|  0|\n",
      "|   SDL2|        26|  0|  0|  0|\n",
      "|   SDL2|        27|  0|  0|  1|\n",
      "|   SDL3|        28|  0|  0|  1|\n",
      "|   SDL1|        29|  1|  0|  0|\n",
      "+-------+----------+---+---+---+\n",
      "only showing top 5 rows\n",
      "\n",
      "+-------+----------+---+---+---+\n",
      "|line_no|shuttle_no|jan|feb|mar|\n",
      "+-------+----------+---+---+---+\n",
      "|   SDL3|         3|  1|  0|  0|\n",
      "|   SDL2|        26|  0|  0|  0|\n",
      "|   SDL2|        27|  0|  0|  1|\n",
      "|   SDL3|        28|  0|  0|  1|\n",
      "|   SDL1|        29|  1|  0|  0|\n",
      "+-------+----------+---+---+---+\n",
      "only showing top 5 rows\n",
      "\n",
      "+-------+----------+---+---+---+\n",
      "|line_no|shuttle_no|jan|feb|mar|\n",
      "+-------+----------+---+---+---+\n",
      "|   SDL3|         3|  1|  0|  0|\n",
      "|   SDL2|        26|  0|  0|  0|\n",
      "|   SDL2|        27|  0|  0|  1|\n",
      "|   SDL3|        28|  0|  0|  1|\n",
      "|   SDL1|        29|  1|  0|  0|\n",
      "+-------+----------+---+---+---+\n",
      "only showing top 5 rows\n",
      "\n"
     ]
    }
   ],
   "source": [
    "# Round to 0\n",
    "df.withColumn('mar', F.round('mar', 0)).show(5)\n",
    "\n",
    "# Floor\n",
    "df.withColumn('feb', F.floor('feb')).show(5)\n",
    "\n",
    "# Ceil \n",
    "df.withColumn('jan', F.ceil('jan')).show(5)\n",
    "## OR (can be used interchangeably)\n",
    "\n",
    "# Ceiling \n",
    "df.withColumn('jan', F.ceiling('jan')).show(5)\n",
    "\n",
    "# absolute\n",
    "df.withColumn('jan', F.abs('jan')).show(5)"
   ]
  },
  {
   "cell_type": "code",
   "execution_count": null,
   "id": "6757d0bd-75fa-4995-a0a3-9db06bddfe0b",
   "metadata": {},
   "outputs": [],
   "source": []
  }
 ],
 "metadata": {
  "kernelspec": {
   "display_name": "pyspark_env",
   "language": "python",
   "name": "pyspark_env"
  },
  "language_info": {
   "codemirror_mode": {
    "name": "ipython",
    "version": 3
   },
   "file_extension": ".py",
   "mimetype": "text/x-python",
   "name": "python",
   "nbconvert_exporter": "python",
   "pygments_lexer": "ipython3",
   "version": "3.9.19"
  }
 },
 "nbformat": 4,
 "nbformat_minor": 5
}
